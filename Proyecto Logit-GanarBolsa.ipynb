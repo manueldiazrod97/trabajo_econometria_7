{
 "cells": [
  {
   "cell_type": "markdown",
   "metadata": {},
   "source": [
    "# Modelo\n",
    "Objetivo del Modelo: Estimar la probabilidad de tener ganancias o pérdidas de capital de una acción en la BMV.\n",
    "\n",
    "    Y = Gana o pierde valor una acción.\n",
    "    X1 = Razón ganancia/capital (nivel de endeudamiento).\n",
    "    X2 = Número de acciones de esa empresa en circulación. (tengo dudas de donde sacar datos de esta…)\n",
    "    X3 = Rendimientos históricos de la bolsa (BMV).\n",
    "    X4 = Riesgo país.**\n",
    "    X5 = Rendimientos históricos de la acción.**\n",
    "    X6 = Tasa impositiva histórica aplicable**\n"
   ]
  },
  {
   "cell_type": "markdown",
   "metadata": {},
   "source": [
    "# Objetivo de la investigación\n"
   ]
  },
  {
   "cell_type": "markdown",
   "metadata": {},
   "source": [
    "El objetivo del presente trabajo es determinar la probabilidad de que un inversionista obtenga ganancias de capital al participar en la Bolsa Mexicana de Valores, aplicando el modelo de regresión logística a una serie de variables de corte económico-financiero."
   ]
  },
  {
   "cell_type": "markdown",
   "metadata": {},
   "source": [
    "# Motivación de la investigación\n",
    "\n"
   ]
  },
  {
   "cell_type": "markdown",
   "metadata": {},
   "source": [
    "Las inversiones siempre han sido una gran fuente de ingresos y han sido la base del crecimiento de todas las economías, porque permiten a las empresas, por medio de distintos mecanismos de financiamiento, innovar procesos, sacar nuevos productos y adquirir activos. Los mercados donde se lleva a cabo dicha actividad tienen como objetivo incrementar el valor de las empresas y retribuir a aquellos participantes que financiaron a las mismas. Creemos que la idea de transferir capitales se fundamenta en que los participantes del mercado ven grandes incentivos para maximizar sus beneficios, pero en este punto entra un factor clave, el riesgo. Por tanto, nuestra motivación es crear un método, usando herramientas y conocimientos adquiridos a lo largo de la carrera, que le permita a cualquier potencial inversionista saber, en promedio, si sus inversiones, en nuestro país, darán o no frutos."
   ]
  },
  {
   "cell_type": "markdown",
   "metadata": {},
   "source": [
    "#  Por qué y para qué es importante este proyecto."
   ]
  },
  {
   "cell_type": "markdown",
   "metadata": {},
   "source": [
    "Como bien sabemos, el panorama económico actual en el ambiente de inversión, no es nada alentador. Aunado a eso hay un consenso generalmente aceptado que dicta que todos los modelos truenan cuando hay crisis. Sin embargo creemos que esta situación es temporal y, a pesar de que la recuperación lleve mucho tiempo, hay una ventana de oportunidad. Para reactivar la economía se necesita certidumbre (seguridad de que se obtendrán ganancias a la hora de invertir el ingreso disponible), es decir, se necesita un método o modelo que determine la probabilidad promedio de ganar o perder. Lo que buscamos es dar una idea que permita tomar buenas decisiones de inversión a cualquier persona o empresa que guste usar sus ahorros o ingresos en la bolsa mexicana o, en su defecto, en otras."
   ]
  },
  {
   "cell_type": "markdown",
   "metadata": {},
   "source": [
    "# Especificación del modelo."
   ]
  },
  {
   "cell_type": "markdown",
   "metadata": {},
   "source": [
    "Tal como se dijo en los objetivos se usará el modelo logístico:\n"
   ]
  },
  {
   "cell_type": "markdown",
   "metadata": {},
   "source": [
    "$ Prob (Y=1)= \\frac{1}{1+e^(-z)}$ "
   ]
  },
  {
   "cell_type": "markdown",
   "metadata": {},
   "source": [
    "donde $z=α+β_{k} x_{ki}+u_{i}$"
   ]
  },
  {
   "cell_type": "markdown",
   "metadata": {},
   "source": [
    "Donde:\n",
    "\t\n",
    "    Y = Obtener ganancias o pérdidas de capital al invertir en la BMV.\n",
    "\tX1 = Nivel de endeudamiento histórico de las empresas participantes en la BMV.\n",
    "    X2 = Rendimientos históricos de la BMV.\n",
    "\tX3 = Riesgo país histórico.\n",
    "\tX4 = Rendimientos históricos de las acciones en la BMV.\n",
    "\tX5 = Tasa impositiva histórica aplicable.\n",
    "\n"
   ]
  },
  {
   "cell_type": "markdown",
   "metadata": {},
   "source": [
    "Por tanto la especificación del modelo es la siguiente:\n"
   ]
  },
  {
   "cell_type": "markdown",
   "metadata": {},
   "source": [
    "$z=G(α+β_{1}Endeudamiento_{it}+β_{2}rm_{t}+β_{3}R.País_{t}+β_{4}r de acción_{it}+β_{5}Tx_{t}+u_{i})$"
   ]
  },
  {
   "cell_type": "markdown",
   "metadata": {},
   "source": [
    "# Justificación del modelo"
   ]
  },
  {
   "cell_type": "markdown",
   "metadata": {},
   "source": [
    "Como se puede observar, el modelo propuesto en este trabajo trata de integrar las ideas expuestas en el marco teórico. La selección de estas variables fue por:\n",
    "\n",
    "    •\tNivel de endeudamiento.- Medido con el ratio Deuda-Capital, se eligió porque una empresa con altos niveles de deuda generalmente tiene un riesgo mayor, lo que genera normalmente un rendimiento más alto. \n",
    "\n",
    "    •\tRendimientos históricos de la BMV.- También llamado rendimiento de mercado, será medido con el Índice de Precios y Cotizaciones (quien toma como referencia a las 33-35 emisoras más representativas de la economía). Se eligió porque al momento de invertir las sociedades y fondos de inversión lo toman como referencia para comparar acciones y portafolios en específico, si el rendimiento particular es menor, generalmente no se invierte en ese activo, generando una pérdida en su valor.\n",
    "\n",
    "    •\tRiesgo País histórico.- Al representar la posibilidad de que la nación donde se realizará el ejercicio no cumpla con sus obligaciones financieras, pensamos que es una variable de interés ya que a priori existe una relación entre la situación económica gubernamental con la situación empresarial. Las políticas tomadas por el primero afectan la confianza y decisiones del segundo.\n",
    "\n",
    "    •\tRendimientos históricos de las acciones de la BMV.- El comportamiento histórico (tendencia) puede darnos una idea sobre el comportamiento actual y futuro del valor de las acciones.\n",
    "\n",
    "    •\tTasa impositiva.- En cualquier actividad formal de la economía se debe pagar impuestos, obtener ganancias de capital no es una excepción, introducir esta variable vuelve más realista el escenario. No considerar el impuesto conllevaría sesgar los niveles de utilidades.\n",
    "\n",
    "    •\tPara finalizar las ganancias o pérdidas serán medidas como la diferencia en precios entre los periodos t-(t-1). \n"
   ]
  },
  {
   "cell_type": "markdown",
   "metadata": {},
   "source": [
    "# Marco teórico"
   ]
  },
  {
   "cell_type": "markdown",
   "metadata": {},
   "source": [
    "Existen modelos que sirven para determinar la rentabilidad de los activos financieros con el fin de asignarlos a un portafolio o para invertir directamente en ellos. El Capital Asset Pricing Model (CAPM) es muy útil para fines de inversión, al representar una de las mejores alternativas para el cálculo de la tasa de retorno exigida por los inversionistas (Ross, Westerfield & Jaffe, 1995).\n",
    "Este método fue desarrollado por William F. Sharpe (1964), John Lintner (1965) y Jan Mossin (1966), en base a los trabajos de Harry Markowitz. Para ellos los inversionistas optan por aquellas inversiones que dan el mayor rendimiento esperado para un determinado nivel de riesgo, considerando que siempre hay una opción de inversión libre de riesgo. El CAPM puede estimarse con la siguiente regresión:\n",
    "\n"
   ]
  },
  {
   "cell_type": "markdown",
   "metadata": {},
   "source": [
    "$r_{i}=r_{0}+β_{1}(E(r)_{m}-r_{0})+ε$"
   ]
  },
  {
   "cell_type": "markdown",
   "metadata": {},
   "source": [
    "Donde:\n",
    "    \n",
    "    ri = Rendimiento esperado de la inversión\n",
    "    r0 = Tasa libre de riesgo.\n",
    "    E(rm) = Tasa de rendimiento promedio de los activos disponibles en el mercado"
   ]
  },
  {
   "cell_type": "markdown",
   "metadata": {},
   "source": [
    "Otro modelo que también sirve para la estimación de los rendimientos de un activo es la Teoría de Valoración por Arbitraje o APT, propuesta por Stephen A. Ross en 1976, para este autor el retorno esperado de los activos con riesgo depende de una combinación lineal de K factores, es decir, la utilidad de un activo se representa como una función lineal de K elementos. "
   ]
  },
  {
   "cell_type": "markdown",
   "metadata": {},
   "source": [
    "De manera básica la APT considera un retorno mínimo en ausencia de riesgo (tasa libre de riesgo), la tasa de desempleo para cada periodo estudiado, el índice de la Bolsa a estudiar (símil del rendimiento esperado de mercado en el modelo CAPM), la tasa de inflación (medida con el INPC de los periodos a estudiar) y el riesgo país de la bolsa a estudiar. Como se puede observar el rendimiento de un activo es influenciado por el riesgo sistemático, es decir, por las fluctuaciones en variables macroeconómicas no controladas por el público inversor.\n",
    "Por otro lado, está el famoso de Teorema de Modigliani Miller que, en su segunda proposición en un mercado de capitales imperfecto (cuando hay impuestos corporativos y no hay una libre entrada y salida de oferentes y demandantes), se puede determinar el costo del capital accionario, es decir, la tasa de rendimiento que piden los inversionistas para invertir en una empresa tomando como variables explicativas a la tasa fiscal, el ratio deuda-capital, el costo de la deuda (tasa de interés que cobran los acreedores o prestamistas). "
   ]
  },
  {
   "cell_type": "markdown",
   "metadata": {},
   "source": [
    "# Posibles extensiones del modelo propuesto."
   ]
  },
  {
   "cell_type": "markdown",
   "metadata": {},
   "source": [
    "Tal como se observa en el marco teórico, nuestro modelo podría incorporar nuevas variables como las tasas de inflación, es decir, considerar los ajustes en los precios a lo largo del tiempo como un factor explicativo de las pérdidas o ganancias de un activo en la BMV.\n",
    "Considerar a las tasas de desempleo como variable explicativa también suena interesante. A priori puede existir una relación entre la situación operativa de una empresa, el aumento o contracción del número de trabajadores y el valor de sus acciones.\n",
    "\n"
   ]
  },
  {
   "cell_type": "markdown",
   "metadata": {},
   "source": [
    "Bibliografía :\n",
    "       \n",
    "       •De Sousa S. Fernando (2013). Modelos de Valoración de activos financieros (CAPM) y teoría de valoración por arbitraje (APT): Un test empírico. Universidade do Estado de Minas Gerais. Brasil.\n",
    "\n",
    "    •Francisco C. Berenice, Francisco P. Abel (2016). Aplicación de la Teoría del Teorema Modigliani-Miller. Universidad Nacional Pedro Henríquez Ureña. República Dominicana\n"
   ]
  },
  {
   "cell_type": "markdown",
   "metadata": {},
   "source": [
    "# Muestra"
   ]
  },
  {
   "cell_type": "markdown",
   "metadata": {},
   "source": [
    "Para la realizacion de esta muestra se  obtendran las variables antes mencionadas de las 4 empresas con mayor volumen de acciones dentro de la Bolsa Mexiaana de Valores estas empresas son :\n",
    "    \n",
    "   \n",
    "    America Movil (AMXL)\n",
    "    BIMBO (BIMBOA)\n",
    "    CEMEX (CEMEXCPO)\n",
    "    Grupo Mexico (GMEXICOB)\n",
    "    \n",
    "Los precios que se ocuparan serán del 2017/03/01 al 2019/12/31 esto implica que la muestra en lo que respecta a la variable de precios tendra un número de observaciones de 708 por empresa. \n",
    "\n",
    "Para el nivel de endeudamiento como la tasa impositiva aplicable se podra extraer a partir de un analisis de. la información financiera que cada empresa publica,dicha información financiera se obtendra apartir de la página de internet de la Bolsa Mexicana de Valores"
   ]
  },
  {
   "cell_type": "code",
   "execution_count": null,
   "metadata": {},
   "outputs": [],
   "source": [
    "volumen que representan estas empresas**"
   ]
  },
  {
   "cell_type": "code",
   "execution_count": null,
   "metadata": {},
   "outputs": [],
   "source": []
  },
  {
   "cell_type": "code",
   "execution_count": null,
   "metadata": {},
   "outputs": [],
   "source": []
  },
  {
   "cell_type": "code",
   "execution_count": null,
   "metadata": {},
   "outputs": [],
   "source": []
  }
 ],
 "metadata": {
  "kernelspec": {
   "display_name": "Python 3",
   "language": "python",
   "name": "python3"
  },
  "language_info": {
   "codemirror_mode": {
    "name": "ipython",
    "version": 3
   },
   "file_extension": ".py",
   "mimetype": "text/x-python",
   "name": "python",
   "nbconvert_exporter": "python",
   "pygments_lexer": "ipython3",
   "version": "3.7.4"
  }
 },
 "nbformat": 4,
 "nbformat_minor": 2
}
