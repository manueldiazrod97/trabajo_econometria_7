{
 "cells": [
  {
   "cell_type": "markdown",
   "metadata": {},
   "source": [
    "# Modelo\n",
    "Objetivo del Modelo: Estimar la probabilidad de tener ganancias o pérdidas de capital de una acción en la BMV.\n",
    "\n",
    "    Y = Gana o pierde valor una acción.\n",
    "    X1 = Razón ganancia/capital (nivel de endeudamiento).\n",
    "    X2 = Número de acciones de esa empresa en circulación. (tengo dudas de donde sacar datos de esta…)\n",
    "    X3 = Rendimientos históricos de la bolsa (BMV).\n",
    "    X4 = Riesgo país.**\n",
    "    X5 = Rendimientos históricos de la acción.**\n",
    "    X6 = Tasa impositiva histórica aplicable**\n"
   ]
  },
  {
   "cell_type": "markdown",
   "metadata": {},
   "source": [
    "# Objetivo de la investigación\n"
   ]
  },
  {
   "cell_type": "markdown",
   "metadata": {},
   "source": [
    "El objetivo del presente trabajo es determinar la probabilidad de que un inversionista obtenga ganancias de capital al participar en la Bolsa Mexicana de Valores, aplicando el modelo de regresión logística a una serie de variables de corte económico-financiero."
   ]
  },
  {
   "cell_type": "markdown",
   "metadata": {},
   "source": [
    "# Motivación de la investigación\n",
    "\n"
   ]
  },
  {
   "cell_type": "markdown",
   "metadata": {},
   "source": [
    "Las inversiones siempre han sido una gran fuente de ingresos y han sido la base del crecimiento de todas las economías, porque permiten a las empresas, por medio de distintos mecanismos de financiamiento, innovar procesos, sacar nuevos productos y adquirir activos. Los mercados donde se lleva a cabo dicha actividad tienen como objetivo incrementar el valor de las empresas y retribuir a aquellos participantes que financiaron a las mismas. Creemos que la idea de transferir capitales se fundamenta en que los participantes del mercado ven grandes incentivos para maximizar sus beneficios, pero en este punto entra un factor clave, el riesgo. Por tanto, nuestra motivación es crear un método, usando herramientas y conocimientos adquiridos a lo largo de la carrera, que le permita a cualquier potencial inversionista saber, en promedio, si sus inversiones, en nuestro país, darán o no frutos."
   ]
  },
  {
   "cell_type": "markdown",
   "metadata": {},
   "source": [
    "#  Por qué y para qué es importante este proyecto."
   ]
  },
  {
   "cell_type": "markdown",
   "metadata": {},
   "source": [
    "Como bien sabemos, el panorama económico actual en el ambiente de inversión, no es nada alentador. Aunado a eso hay un consenso generalmente aceptado que dicta que todos los modelos truenan cuando hay crisis. Sin embargo creemos que esta situación es temporal y, a pesar de que la recuperación lleve mucho tiempo, hay una ventana de oportunidad. Para reactivar la economía se necesita certidumbre (seguridad de que se obtendrán ganancias a la hora de invertir el ingreso disponible), es decir, se necesita un método o modelo que determine la probabilidad promedio de ganar o perder. Lo que buscamos es dar una idea que permita tomar buenas decisiones de inversión a cualquier persona o empresa que guste usar sus ahorros o ingresos en la bolsa mexicana o, en su defecto, en otras."
   ]
  },
  {
   "cell_type": "markdown",
   "metadata": {},
   "source": [
    "# Especificación del modelo."
   ]
  },
  {
   "cell_type": "markdown",
   "metadata": {},
   "source": [
    "Tal como se dijo en los objetivos se usará el modelo logístico:\n"
   ]
  },
  {
   "cell_type": "markdown",
   "metadata": {},
   "source": [
    "$ Prob (Y=1)= \\frac{1}{1+e^(-z)}$ "
   ]
  },
  {
   "cell_type": "markdown",
   "metadata": {},
   "source": [
    "donde $z=α+β_{k} x_{ki}+u_{i}$"
   ]
  },
  {
   "cell_type": "markdown",
   "metadata": {},
   "source": [
    "Donde:\n",
    "\t\n",
    "    Y = Obtener ganancias o pérdidas de capital al invertir en la BMV.\n",
    "\tX1 = Nivel de endeudamiento histórico de las empresas participantes en la BMV.\n",
    "    X2 = Rendimientos históricos de la BMV.\n",
    "\tX3 = Riesgo país histórico.\n",
    "\tX4 = Rendimientos históricos de las acciones en la BMV.\n",
    "\tX5 = Tasa impositiva histórica aplicable.\n",
    "\n"
   ]
  },
  {
   "cell_type": "markdown",
   "metadata": {},
   "source": [
    "Por tanto la especificación del modelo es la siguiente:\n"
   ]
  },
  {
   "cell_type": "markdown",
   "metadata": {},
   "source": [
    "$z=G(α+β_{1}Endeudamiento_{it}+β_{2}rm_{t}+β_{3}R.País_{t}+β_{4}r de acción_{it}+β_{5}Tx_{t}+u_{i})$"
   ]
  },
  {
   "cell_type": "markdown",
   "metadata": {},
   "source": [
    "# Justificación del modelo"
   ]
  },
  {
   "cell_type": "markdown",
   "metadata": {},
   "source": [
    "Como se puede observar, el modelo propuesto en este trabajo trata de integrar las ideas expuestas en el marco teórico. La selección de estas variables fue por:\n",
    "\n",
    "    •\tNivel de endeudamiento.- Medido con el ratio Deuda-Capital, se eligió porque una empresa con altos niveles de deuda generalmente tiene un riesgo mayor, lo que genera normalmente un rendimiento más alto. \n",
    "\n",
    "    •\tRendimientos históricos de la BMV.- También llamado rendimiento de mercado, será medido con el Índice de Precios y Cotizaciones (quien toma como referencia a las 33-35 emisoras más representativas de la economía). Se eligió porque al momento de invertir las sociedades y fondos de inversión lo toman como referencia para comparar acciones y portafolios en específico, si el rendimiento particular es menor, generalmente no se invierte en ese activo, generando una pérdida en su valor.\n",
    "\n",
    "    •\tRiesgo País histórico.- Al representar la posibilidad de que la nación donde se realizará el ejercicio no cumpla con sus obligaciones financieras, pensamos que es una variable de interés ya que a priori existe una relación entre la situación económica gubernamental con la situación empresarial. Las políticas tomadas por el primero afectan la confianza y decisiones del segundo.\n",
    "\n",
    "    •\tRendimientos históricos de las acciones de la BMV.- El comportamiento histórico (tendencia) puede darnos una idea sobre el comportamiento actual y futuro del valor de las acciones.\n",
    "\n",
    "    •\tTasa impositiva.- En cualquier actividad formal de la economía se debe pagar impuestos, obtener ganancias de capital no es una excepción, introducir esta variable vuelve más realista el escenario. No considerar el impuesto conllevaría sesgar los niveles de utilidades.\n",
    "\n",
    "    •\tPara finalizar las ganancias o pérdidas serán medidas como la diferencia en precios entre los periodos t-(t-1). \n"
   ]
  },
  {
   "cell_type": "markdown",
   "metadata": {},
   "source": [
    "# Marco teórico"
   ]
  },
  {
   "cell_type": "markdown",
   "metadata": {},
   "source": [
    "Existen modelos que sirven para determinar la rentabilidad de los activos financieros con el fin de asignarlos a un portafolio o para invertir directamente en ellos. El Capital Asset Pricing Model (CAPM) es muy útil para fines de inversión, al representar una de las mejores alternativas para el cálculo de la tasa de retorno exigida por los inversionistas (Ross, Westerfield & Jaffe, 1995).\n",
    "Este método fue desarrollado por William F. Sharpe (1964), John Lintner (1965) y Jan Mossin (1966), en base a los trabajos de Harry Markowitz. Para ellos los inversionistas optan por aquellas inversiones que dan el mayor rendimiento esperado para un determinado nivel de riesgo, considerando que siempre hay una opción de inversión libre de riesgo. El CAPM puede estimarse con la siguiente regresión:\n",
    "\n"
   ]
  },
  {
   "cell_type": "markdown",
   "metadata": {},
   "source": [
    "$r_{i}=r_{0}+β_{1}(E(r)_{m}-r_{0})+ε$"
   ]
  },
  {
   "cell_type": "markdown",
   "metadata": {},
   "source": [
    "Donde:\n",
    "    \n",
    "    ri = Rendimiento esperado de la inversión\n",
    "    r0 = Tasa libre de riesgo.\n",
    "    E(rm) = Tasa de rendimiento promedio de los activos disponibles en el mercado"
   ]
  },
  {
   "cell_type": "markdown",
   "metadata": {},
   "source": [
    "Otro modelo que también sirve para la estimación de los rendimientos de un activo es la Teoría de Valoración por Arbitraje o APT, propuesta por Stephen A. Ross en 1976, para este autor el retorno esperado de los activos con riesgo depende de una combinación lineal de K factores, es decir, la utilidad de un activo se representa como una función lineal de K elementos. "
   ]
  },
  {
   "cell_type": "markdown",
   "metadata": {},
   "source": [
    "De manera básica la APT considera un retorno mínimo en ausencia de riesgo (tasa libre de riesgo), la tasa de desempleo para cada periodo estudiado, el índice de la Bolsa a estudiar (símil del rendimiento esperado de mercado en el modelo CAPM), la tasa de inflación (medida con el INPC de los periodos a estudiar) y el riesgo país de la bolsa a estudiar. Como se puede observar el rendimiento de un activo es influenciado por el riesgo sistemático, es decir, por las fluctuaciones en variables macroeconómicas no controladas por el público inversor.\n",
    "Por otro lado, está el famoso de Teorema de Modigliani Miller que, en su segunda proposición en un mercado de capitales imperfecto (cuando hay impuestos corporativos y no hay una libre entrada y salida de oferentes y demandantes), se puede determinar el costo del capital accionario, es decir, la tasa de rendimiento que piden los inversionistas para invertir en una empresa tomando como variables explicativas a la tasa fiscal, el ratio deuda-capital, el costo de la deuda (tasa de interés que cobran los acreedores o prestamistas). "
   ]
  },
  {
   "cell_type": "markdown",
   "metadata": {},
   "source": [
    "# Posibles extensiones del modelo propuesto."
   ]
  },
  {
   "cell_type": "markdown",
   "metadata": {},
   "source": [
    "Tal como se observa en el marco teórico, nuestro modelo podría incorporar nuevas variables como las tasas de inflación, es decir, considerar los ajustes en los precios a lo largo del tiempo como un factor explicativo de las pérdidas o ganancias de un activo en la BMV.\n",
    "Considerar a las tasas de desempleo como variable explicativa también suena interesante. A priori puede existir una relación entre la situación operativa de una empresa, el aumento o contracción del número de trabajadores y el valor de sus acciones.\n",
    "\n"
   ]
  },
  {
   "cell_type": "markdown",
   "metadata": {},
   "source": [
    "Bibliografía :\n",
    "       \n",
    "       •De Sousa S. Fernando (2013). Modelos de Valoración de activos financieros (CAPM) y teoría de valoración por arbitraje (APT): Un test empírico. Universidade do Estado de Minas Gerais. Brasil.\n",
    "\n",
    "    •Francisco C. Berenice, Francisco P. Abel (2016). Aplicación de la Teoría del Teorema Modigliani-Miller. Universidad Nacional Pedro Henríquez Ureña. República Dominicana\n"
   ]
  },
  {
   "cell_type": "markdown",
   "metadata": {},
   "source": [
    "# Muestra"
   ]
  },
  {
   "cell_type": "markdown",
   "metadata": {},
   "source": [
    "Para la realizacion de esta muestra se  obtendran las variables antes mencionadas de las 4 empresas con mayor volumen de acciones dentro de la Bolsa Mexiaana de Valores estas empresas son :\n",
    "    \n",
    "   \n",
    "    America Movil (AMXL)\n",
    "    BIMBO (BIMBOA)\n",
    "    CEMEX (CEMEXCPO)\n",
    "    Grupo Mexico (GMEXICOB)\n",
    "    \n",
    "Los precios que se ocuparan serán del 2017/03/01 al 2019/12/31 esto implica que la muestra en lo que respecta a la variable de precios tendra un número de observaciones de 708 por empresa. \n",
    "\n",
    "Para el nivel de endeudamiento como la tasa impositiva aplicable se podra extraer a partir de un analisis de. la información financiera que cada empresa publica,dicha información financiera se obtendra apartir de la página de internet de la Bolsa Mexicana de Valores"
   ]
  },
  {
   "cell_type": "code",
   "execution_count": 78,
   "metadata": {},
   "outputs": [],
   "source": [
    "import investpy\n",
    "import pandas as pd\n",
    "import statsmodels.api as sm\n",
    "import numpy as np\n",
    "from sklearn.linear_model import LogisticRegression \n",
    "from sklearn.metrics import classification_report, confusion_matrix"
   ]
  },
  {
   "cell_type": "markdown",
   "metadata": {},
   "source": [
    "# Precios Acciones "
   ]
  },
  {
   "cell_type": "code",
   "execution_count": 22,
   "metadata": {},
   "outputs": [],
   "source": [
    "df_CEMEXCPO=investpy.get_stock_historical_data(stock='CEMEXCPO',\n",
    "                                        country='mexico',\n",
    "                                        from_date='27/03/2017',\n",
    "                                        to_date='31/12/2019')\n",
    "\n",
    "df_BIMBOA=investpy.get_stock_historical_data(stock='BIMBOA',\n",
    "                                        country='mexico',\n",
    "                                        from_date='27/03/2017',\n",
    "                                        to_date='31/12/2019')\n",
    "\n",
    "df_AMXL=df_bimboa=investpy.get_stock_historical_data(stock='AMXL',\n",
    "                                        country='mexico',\n",
    "                                        from_date='27/03/2017',\n",
    "                                        to_date='31/12/2019')\n",
    "\n",
    "df_GMEXICOB=investpy.get_stock_historical_data(stock='GMEXICOB',\n",
    "                                        country='mexico',\n",
    "                                        from_date='27/03/2017',\n",
    "                                        to_date='31/12/2019')\n",
    "\n",
    "df_CEMEXCPO=df_CEMEXCPO.loc[:,[\"Close\",\"Volume\"]]\n",
    "df_BIMBOA=df_BIMBOA.loc[:,[\"Close\",\"Volume\"]]\n",
    "df_AMXL=df_AMXL.loc[:,[\"Close\",\"Volume\"]]\n",
    "df_GMEXICOB=df_GMEXICOB.loc[:,[\"Close\",\"Volume\"]]\n",
    "\n"
   ]
  },
  {
   "cell_type": "markdown",
   "metadata": {},
   "source": [
    "# IPC"
   ]
  },
  {
   "cell_type": "code",
   "execution_count": 23,
   "metadata": {},
   "outputs": [],
   "source": [
    "df_IPC = investpy.get_index_historical_data(index='S&P/BMV IPC',\n",
    "                                        country='mexico',\n",
    "                                        from_date='27/03/2017',\n",
    "                                        to_date='31/12/2019')\n",
    "\n",
    "df_IPC =df_IPC.loc[:,[\"Close\",\"Volume\"]]\n"
   ]
  },
  {
   "cell_type": "markdown",
   "metadata": {},
   "source": [
    "# Tipo de cambio "
   ]
  },
  {
   "cell_type": "code",
   "execution_count": 27,
   "metadata": {},
   "outputs": [],
   "source": [
    "df_usdmxn= investpy.get_currency_cross_historical_data(currency_cross='USD/MXN',\n",
    "                                                 from_date='27/03/2017',\n",
    "                                                 to_date='31/12/2019')\n",
    "df_usdmxn =df_usdmxn.loc[:,\"Close\"]\n"
   ]
  },
  {
   "cell_type": "markdown",
   "metadata": {},
   "source": [
    "# Tasa libre de riesgo"
   ]
  },
  {
   "cell_type": "code",
   "execution_count": 36,
   "metadata": {},
   "outputs": [],
   "source": [
    "df_bonds=investpy.get_bond_historical_data(bond='Mexico 1M', \n",
    "                                  from_date='27/03/2017', to_date='31/12/2019')\n",
    "df_bonds=df_bonds.loc[:,\"Close\"]\n"
   ]
  },
  {
   "cell_type": "markdown",
   "metadata": {},
   "source": [
    "# Data Frame Base"
   ]
  },
  {
   "cell_type": "code",
   "execution_count": 48,
   "metadata": {
    "scrolled": true
   },
   "outputs": [],
   "source": [
    "df_base = pd.concat([df_CEMEXCPO,df_BIMBOA,df_AMXL,df_GMEXICOB,df_IPC,df_usdmxn,df_bonds],axis=1,\n",
    "                    keys=(\"CEMEXCPO\",\"BIMBOA\",\"AMXL\",\"GMEXICOB\",\"IPC\",\"USD/MXN\",\"MX 1M\"))\n",
    "df_base=df_base.dropna()\n",
    "df_base=pd.DataFrame(df_base)\n"
   ]
  },
  {
   "cell_type": "markdown",
   "metadata": {},
   "source": [
    "\n",
    "# Data Frame CEMEXCPO"
   ]
  },
  {
   "cell_type": "code",
   "execution_count": 69,
   "metadata": {},
   "outputs": [],
   "source": [
    "dfcemex = pd.concat([df_CEMEXCPO,df_IPC,df_usdmxn,df_bonds],axis=1,\n",
    "                    keys=(\"CEMEXCPO\",\"IPC\",\"USD/MXN\",\"MX 1M\"))\n",
    "dfcemex = dfcemex.dropna()"
   ]
  },
  {
   "cell_type": "code",
   "execution_count": 167,
   "metadata": {
    "scrolled": false
   },
   "outputs": [],
   "source": [
    "dic_cemex=pd.read_excel(r\"/Users/manueldiaz/Documents/Universidad/6º /Econometría 2/Dicotomica.xlsx\",sheet_name=\"CEMEX\")\n",
    "dic_cemex.rename(columns={\"CEMEXCPO.MX\":\"cemex\",\"Unnamed: 1\":\"1\",\"Unnamed: 2\":\"2\",\"Unnamed: 3\":\"Y_Dic\"},inplace=True)\n",
    "dic_cemex=dic_cemex.loc[:,\"Y_Dic\"]\n",
    "dic_cemex=pd.DataFrame(dic_cemex)\n",
    "dic_cemex=dic_cemex.iloc[1:695]"
   ]
  },
  {
   "cell_type": "markdown",
   "metadata": {},
   "source": [
    "# HACIENDO REGRESIÓN CEMEXCPO"
   ]
  },
  {
   "cell_type": "code",
   "execution_count": 170,
   "metadata": {},
   "outputs": [],
   "source": [
    "model=LogisticRegression(solver='liblinear', random_state=0)"
   ]
  },
  {
   "cell_type": "code",
   "execution_count": 171,
   "metadata": {
    "scrolled": false
   },
   "outputs": [
    {
     "name": "stderr",
     "output_type": "stream",
     "text": [
      "/opt/anaconda3/lib/python3.7/site-packages/sklearn/utils/validation.py:724: DataConversionWarning: A column-vector y was passed when a 1d array was expected. Please change the shape of y to (n_samples, ), for example using ravel().\n",
      "  y = column_or_1d(y, warn=True)\n"
     ]
    },
    {
     "ename": "ValueError",
     "evalue": "Found input variables with inconsistent numbers of samples: [656, 694]",
     "output_type": "error",
     "traceback": [
      "\u001b[0;31m---------------------------------------------------------------------------\u001b[0m",
      "\u001b[0;31mValueError\u001b[0m                                Traceback (most recent call last)",
      "\u001b[0;32m<ipython-input-171-2cb2be6e3f28>\u001b[0m in \u001b[0;36m<module>\u001b[0;34m\u001b[0m\n\u001b[1;32m      1\u001b[0m \u001b[0mX\u001b[0m\u001b[0;34m=\u001b[0m\u001b[0mdfcemex\u001b[0m\u001b[0;34m\u001b[0m\u001b[0;34m\u001b[0m\u001b[0m\n\u001b[1;32m      2\u001b[0m \u001b[0mY\u001b[0m\u001b[0;34m=\u001b[0m\u001b[0mdic_cemex\u001b[0m\u001b[0;34m\u001b[0m\u001b[0;34m\u001b[0m\u001b[0m\n\u001b[0;32m----> 3\u001b[0;31m \u001b[0mmodel\u001b[0m\u001b[0;34m.\u001b[0m\u001b[0mfit\u001b[0m\u001b[0;34m(\u001b[0m\u001b[0mX\u001b[0m\u001b[0;34m,\u001b[0m\u001b[0mY\u001b[0m\u001b[0;34m)\u001b[0m\u001b[0;34m\u001b[0m\u001b[0;34m\u001b[0m\u001b[0m\n\u001b[0m",
      "\u001b[0;32m/opt/anaconda3/lib/python3.7/site-packages/sklearn/linear_model/logistic.py\u001b[0m in \u001b[0;36mfit\u001b[0;34m(self, X, y, sample_weight)\u001b[0m\n\u001b[1;32m   1530\u001b[0m \u001b[0;34m\u001b[0m\u001b[0m\n\u001b[1;32m   1531\u001b[0m         X, y = check_X_y(X, y, accept_sparse='csr', dtype=_dtype, order=\"C\",\n\u001b[0;32m-> 1532\u001b[0;31m                          accept_large_sparse=solver != 'liblinear')\n\u001b[0m\u001b[1;32m   1533\u001b[0m         \u001b[0mcheck_classification_targets\u001b[0m\u001b[0;34m(\u001b[0m\u001b[0my\u001b[0m\u001b[0;34m)\u001b[0m\u001b[0;34m\u001b[0m\u001b[0;34m\u001b[0m\u001b[0m\n\u001b[1;32m   1534\u001b[0m         \u001b[0mself\u001b[0m\u001b[0;34m.\u001b[0m\u001b[0mclasses_\u001b[0m \u001b[0;34m=\u001b[0m \u001b[0mnp\u001b[0m\u001b[0;34m.\u001b[0m\u001b[0munique\u001b[0m\u001b[0;34m(\u001b[0m\u001b[0my\u001b[0m\u001b[0;34m)\u001b[0m\u001b[0;34m\u001b[0m\u001b[0;34m\u001b[0m\u001b[0m\n",
      "\u001b[0;32m/opt/anaconda3/lib/python3.7/site-packages/sklearn/utils/validation.py\u001b[0m in \u001b[0;36mcheck_X_y\u001b[0;34m(X, y, accept_sparse, accept_large_sparse, dtype, order, copy, force_all_finite, ensure_2d, allow_nd, multi_output, ensure_min_samples, ensure_min_features, y_numeric, warn_on_dtype, estimator)\u001b[0m\n\u001b[1;32m    727\u001b[0m         \u001b[0my\u001b[0m \u001b[0;34m=\u001b[0m \u001b[0my\u001b[0m\u001b[0;34m.\u001b[0m\u001b[0mastype\u001b[0m\u001b[0;34m(\u001b[0m\u001b[0mnp\u001b[0m\u001b[0;34m.\u001b[0m\u001b[0mfloat64\u001b[0m\u001b[0;34m)\u001b[0m\u001b[0;34m\u001b[0m\u001b[0;34m\u001b[0m\u001b[0m\n\u001b[1;32m    728\u001b[0m \u001b[0;34m\u001b[0m\u001b[0m\n\u001b[0;32m--> 729\u001b[0;31m     \u001b[0mcheck_consistent_length\u001b[0m\u001b[0;34m(\u001b[0m\u001b[0mX\u001b[0m\u001b[0;34m,\u001b[0m \u001b[0my\u001b[0m\u001b[0;34m)\u001b[0m\u001b[0;34m\u001b[0m\u001b[0;34m\u001b[0m\u001b[0m\n\u001b[0m\u001b[1;32m    730\u001b[0m \u001b[0;34m\u001b[0m\u001b[0m\n\u001b[1;32m    731\u001b[0m     \u001b[0;32mreturn\u001b[0m \u001b[0mX\u001b[0m\u001b[0;34m,\u001b[0m \u001b[0my\u001b[0m\u001b[0;34m\u001b[0m\u001b[0;34m\u001b[0m\u001b[0m\n",
      "\u001b[0;32m/opt/anaconda3/lib/python3.7/site-packages/sklearn/utils/validation.py\u001b[0m in \u001b[0;36mcheck_consistent_length\u001b[0;34m(*arrays)\u001b[0m\n\u001b[1;32m    203\u001b[0m     \u001b[0;32mif\u001b[0m \u001b[0mlen\u001b[0m\u001b[0;34m(\u001b[0m\u001b[0muniques\u001b[0m\u001b[0;34m)\u001b[0m \u001b[0;34m>\u001b[0m \u001b[0;36m1\u001b[0m\u001b[0;34m:\u001b[0m\u001b[0;34m\u001b[0m\u001b[0;34m\u001b[0m\u001b[0m\n\u001b[1;32m    204\u001b[0m         raise ValueError(\"Found input variables with inconsistent numbers of\"\n\u001b[0;32m--> 205\u001b[0;31m                          \" samples: %r\" % [int(l) for l in lengths])\n\u001b[0m\u001b[1;32m    206\u001b[0m \u001b[0;34m\u001b[0m\u001b[0m\n\u001b[1;32m    207\u001b[0m \u001b[0;34m\u001b[0m\u001b[0m\n",
      "\u001b[0;31mValueError\u001b[0m: Found input variables with inconsistent numbers of samples: [656, 694]"
     ]
    }
   ],
   "source": [
    "X=dfcemex\n",
    "Y=dic_cemex\n",
    "model.fit(X,Y)"
   ]
  },
  {
   "cell_type": "code",
   "execution_count": 177,
   "metadata": {},
   "outputs": [
    {
     "data": {
      "text/html": [
       "<div>\n",
       "<style scoped>\n",
       "    .dataframe tbody tr th:only-of-type {\n",
       "        vertical-align: middle;\n",
       "    }\n",
       "\n",
       "    .dataframe tbody tr th {\n",
       "        vertical-align: top;\n",
       "    }\n",
       "\n",
       "    .dataframe thead tr th {\n",
       "        text-align: left;\n",
       "    }\n",
       "\n",
       "    .dataframe thead tr:last-of-type th {\n",
       "        text-align: right;\n",
       "    }\n",
       "</style>\n",
       "<table border=\"1\" class=\"dataframe\">\n",
       "  <thead>\n",
       "    <tr>\n",
       "      <th></th>\n",
       "      <th colspan=\"2\" halign=\"left\">CEMEXCPO</th>\n",
       "      <th colspan=\"2\" halign=\"left\">IPC</th>\n",
       "      <th>USD/MXN</th>\n",
       "      <th>MX 1M</th>\n",
       "    </tr>\n",
       "    <tr>\n",
       "      <th></th>\n",
       "      <th>Close</th>\n",
       "      <th>Volume</th>\n",
       "      <th>Close</th>\n",
       "      <th>Volume</th>\n",
       "      <th>Close</th>\n",
       "      <th>Close</th>\n",
       "    </tr>\n",
       "    <tr>\n",
       "      <th>Date</th>\n",
       "      <th></th>\n",
       "      <th></th>\n",
       "      <th></th>\n",
       "      <th></th>\n",
       "      <th></th>\n",
       "      <th></th>\n",
       "    </tr>\n",
       "  </thead>\n",
       "  <tbody>\n",
       "    <tr>\n",
       "      <td>2017-03-26</td>\n",
       "      <td>16.154</td>\n",
       "      <td>41931612.0</td>\n",
       "      <td>49312.99</td>\n",
       "      <td>181241648.0</td>\n",
       "      <td>18.8905</td>\n",
       "      <td>6.400</td>\n",
       "    </tr>\n",
       "    <tr>\n",
       "      <td>2017-03-27</td>\n",
       "      <td>16.077</td>\n",
       "      <td>29383976.0</td>\n",
       "      <td>49339.24</td>\n",
       "      <td>167514368.0</td>\n",
       "      <td>19.0252</td>\n",
       "      <td>6.451</td>\n",
       "    </tr>\n",
       "    <tr>\n",
       "      <td>2017-03-28</td>\n",
       "      <td>16.087</td>\n",
       "      <td>42919860.0</td>\n",
       "      <td>49036.52</td>\n",
       "      <td>189357664.0</td>\n",
       "      <td>18.7092</td>\n",
       "      <td>6.390</td>\n",
       "    </tr>\n",
       "    <tr>\n",
       "      <td>2017-03-29</td>\n",
       "      <td>15.923</td>\n",
       "      <td>31755844.0</td>\n",
       "      <td>48863.30</td>\n",
       "      <td>146154288.0</td>\n",
       "      <td>18.7190</td>\n",
       "      <td>6.531</td>\n",
       "    </tr>\n",
       "    <tr>\n",
       "      <td>2017-03-30</td>\n",
       "      <td>16.298</td>\n",
       "      <td>47016148.0</td>\n",
       "      <td>48541.56</td>\n",
       "      <td>250132560.0</td>\n",
       "      <td>18.7250</td>\n",
       "      <td>6.460</td>\n",
       "    </tr>\n",
       "    <tr>\n",
       "      <td>...</td>\n",
       "      <td>...</td>\n",
       "      <td>...</td>\n",
       "      <td>...</td>\n",
       "      <td>...</td>\n",
       "      <td>...</td>\n",
       "      <td>...</td>\n",
       "    </tr>\n",
       "    <tr>\n",
       "      <td>2019-12-23</td>\n",
       "      <td>7.230</td>\n",
       "      <td>1606315.0</td>\n",
       "      <td>44157.97</td>\n",
       "      <td>13691800.0</td>\n",
       "      <td>18.9810</td>\n",
       "      <td>7.230</td>\n",
       "    </tr>\n",
       "    <tr>\n",
       "      <td>2019-12-25</td>\n",
       "      <td>7.330</td>\n",
       "      <td>8339033.0</td>\n",
       "      <td>44300.17</td>\n",
       "      <td>32194100.0</td>\n",
       "      <td>18.9405</td>\n",
       "      <td>7.190</td>\n",
       "    </tr>\n",
       "    <tr>\n",
       "      <td>2019-12-26</td>\n",
       "      <td>7.230</td>\n",
       "      <td>16024165.0</td>\n",
       "      <td>44261.51</td>\n",
       "      <td>59475000.0</td>\n",
       "      <td>18.8394</td>\n",
       "      <td>7.150</td>\n",
       "    </tr>\n",
       "    <tr>\n",
       "      <td>2019-12-29</td>\n",
       "      <td>7.160</td>\n",
       "      <td>18710640.0</td>\n",
       "      <td>43657.48</td>\n",
       "      <td>81802896.0</td>\n",
       "      <td>18.9315</td>\n",
       "      <td>7.190</td>\n",
       "    </tr>\n",
       "    <tr>\n",
       "      <td>2019-12-30</td>\n",
       "      <td>7.080</td>\n",
       "      <td>7686082.0</td>\n",
       "      <td>43541.02</td>\n",
       "      <td>46721800.0</td>\n",
       "      <td>18.9325</td>\n",
       "      <td>7.230</td>\n",
       "    </tr>\n",
       "  </tbody>\n",
       "</table>\n",
       "<p>656 rows × 6 columns</p>\n",
       "</div>"
      ],
      "text/plain": [
       "           CEMEXCPO                   IPC               USD/MXN  MX 1M\n",
       "              Close      Volume     Close       Volume    Close  Close\n",
       "Date                                                                  \n",
       "2017-03-26   16.154  41931612.0  49312.99  181241648.0  18.8905  6.400\n",
       "2017-03-27   16.077  29383976.0  49339.24  167514368.0  19.0252  6.451\n",
       "2017-03-28   16.087  42919860.0  49036.52  189357664.0  18.7092  6.390\n",
       "2017-03-29   15.923  31755844.0  48863.30  146154288.0  18.7190  6.531\n",
       "2017-03-30   16.298  47016148.0  48541.56  250132560.0  18.7250  6.460\n",
       "...             ...         ...       ...          ...      ...    ...\n",
       "2019-12-23    7.230   1606315.0  44157.97   13691800.0  18.9810  7.230\n",
       "2019-12-25    7.330   8339033.0  44300.17   32194100.0  18.9405  7.190\n",
       "2019-12-26    7.230  16024165.0  44261.51   59475000.0  18.8394  7.150\n",
       "2019-12-29    7.160  18710640.0  43657.48   81802896.0  18.9315  7.190\n",
       "2019-12-30    7.080   7686082.0  43541.02   46721800.0  18.9325  7.230\n",
       "\n",
       "[656 rows x 6 columns]"
      ]
     },
     "execution_count": 177,
     "metadata": {},
     "output_type": "execute_result"
    }
   ],
   "source": [
    "dfcemex"
   ]
  },
  {
   "cell_type": "markdown",
   "metadata": {},
   "source": [
    "# Data Frame BIMBOA"
   ]
  },
  {
   "cell_type": "code",
   "execution_count": 71,
   "metadata": {},
   "outputs": [],
   "source": [
    "dfbimboa = pd.concat([df_BIMBOA,df_IPC,df_usdmxn,df_bonds],axis=1,\n",
    "                    keys=(\"BIMBOA\",\"IPC\",\"USD/MXN\",\"MX 1M\"))\n",
    "dfbimboa = dfbimboa.dropna()"
   ]
  },
  {
   "cell_type": "code",
   "execution_count": 156,
   "metadata": {},
   "outputs": [],
   "source": [
    "dic_bimboa=pd.read_excel(r\"/Users/manueldiaz/Documents/Universidad/6º /Econometría 2/Dicotomica.xlsx\",sheet_name=\"BIMBOA\")\n",
    "dic_bimboa.rename(columns={\"BIMBOA.MX\":\"cemex\",\"Unnamed: 1\":\"1\",\"Unnamed: 2\":\"2\",\"Unnamed: 3\":\"Y_Dic\"},inplace=True)\n",
    "dic_bimboa=dic_bimboa.loc[:,\"Y_Dic\"]\n",
    "dic_bimboa=pd.DataFrame(dic_bimboa)\n",
    "dic_bimboa=dic_bimboa.iloc[1:695]"
   ]
  },
  {
   "cell_type": "markdown",
   "metadata": {},
   "source": [
    "# HACIENDO REGRESIÓN BIMBOA"
   ]
  },
  {
   "cell_type": "code",
   "execution_count": null,
   "metadata": {},
   "outputs": [],
   "source": []
  },
  {
   "cell_type": "code",
   "execution_count": null,
   "metadata": {},
   "outputs": [],
   "source": []
  },
  {
   "cell_type": "code",
   "execution_count": null,
   "metadata": {},
   "outputs": [],
   "source": []
  },
  {
   "cell_type": "markdown",
   "metadata": {},
   "source": [
    "# Data Frame AMXL"
   ]
  },
  {
   "cell_type": "code",
   "execution_count": 158,
   "metadata": {},
   "outputs": [],
   "source": [
    "dfAMXL = pd.concat([df_AMXL,df_IPC,df_usdmxn,df_bonds],axis=1,\n",
    "                    keys=(\"AMXL\",\"IPC\",\"USD/MXN\",\"MX 1M\"))\n",
    "dfAMXL = dfAMXL.dropna()"
   ]
  },
  {
   "cell_type": "code",
   "execution_count": 160,
   "metadata": {},
   "outputs": [],
   "source": [
    "dic_amxl=pd.read_excel(r\"/Users/manueldiaz/Documents/Universidad/6º /Econometría 2/Dicotomica.xlsx\",sheet_name=\"AMXL.MX\")\n",
    "dic_amxl.rename(columns={\"AMXL.MX\":\"cemex\",\"Unnamed: 1\":\"1\",\"Unnamed: 2\":\"2\",\"Unnamed: 3\":\"Y_Dic\"},inplace=True)\n",
    "dic_amxl=dic_amxl.loc[:,\"Y_Dic\"]\n",
    "dic_amxl=pd.DataFrame(dic_amxl)\n",
    "dic_amxl=dic_amxl.iloc[1:695]"
   ]
  },
  {
   "cell_type": "markdown",
   "metadata": {},
   "source": [
    "# HACIENDO REGRESIÓN AMXL"
   ]
  },
  {
   "cell_type": "code",
   "execution_count": null,
   "metadata": {},
   "outputs": [],
   "source": []
  },
  {
   "cell_type": "markdown",
   "metadata": {},
   "source": [
    "# Data Frame GMEXICOB"
   ]
  },
  {
   "cell_type": "code",
   "execution_count": 76,
   "metadata": {},
   "outputs": [],
   "source": [
    "dfgmexicob = pd.concat([df_GMEXICOB,df_IPC,df_usdmxn,df_bonds],axis=1,\n",
    "                    keys=(\"BIMBOA\",\"IPC\",\"USD/MXN\",\"MX 1M\"))\n",
    "dfgmexicob = dfgmexicob.dropna()"
   ]
  },
  {
   "cell_type": "code",
   "execution_count": 162,
   "metadata": {},
   "outputs": [],
   "source": [
    "dic_gmexicob=pd.read_excel(r\"/Users/manueldiaz/Documents/Universidad/6º /Econometría 2/Dicotomica.xlsx\",sheet_name=\"GMEXICOB\")\n",
    "dic_gmexicob.rename(columns={\"GMEXICOB\":\"cemex\",\"Unnamed: 1\":\"1\",\"Unnamed: 2\":\"2\",\"Unnamed: 3\":\"Y_Dic\"},inplace=True)\n",
    "dic_gmexicob=dic_gmexicob.loc[:,\"Y_Dic\"]\n",
    "dic_gmexicob=pd.DataFrame(dic_gmexicob)\n",
    "dic_gmexicob=dic_gmexicob.iloc[1:695]"
   ]
  },
  {
   "cell_type": "markdown",
   "metadata": {},
   "source": [
    "# HACIENDO REGRESIÓN GMEXICOB"
   ]
  },
  {
   "cell_type": "code",
   "execution_count": null,
   "metadata": {},
   "outputs": [],
   "source": []
  }
 ],
 "metadata": {
  "kernelspec": {
   "display_name": "Python 3",
   "language": "python",
   "name": "python3"
  },
  "language_info": {
   "codemirror_mode": {
    "name": "ipython",
    "version": 3
   },
   "file_extension": ".py",
   "mimetype": "text/x-python",
   "name": "python",
   "nbconvert_exporter": "python",
   "pygments_lexer": "ipython3",
   "version": "3.7.4"
  }
 },
 "nbformat": 4,
 "nbformat_minor": 2
}
