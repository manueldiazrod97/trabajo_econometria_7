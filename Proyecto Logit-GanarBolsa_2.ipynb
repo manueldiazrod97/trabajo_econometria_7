{
 "cells": [
  {
   "cell_type": "markdown",
   "metadata": {},
   "source": [
    "# Modelo\n",
    "Objetivo del Modelo: Estimar la probabilidad de tener ganancias o pérdidas de capital de una acción en la BMV.\n",
    "\n",
    "    Y = Gana o pierde valor una acción.\n",
    "    X1 = Razón ganancia/capital (nivel de endeudamiento).\n",
    "    X2 = Número de acciones de esa empresa en circulación. (tengo dudas de donde sacar datos de esta…)\n",
    "    X3 = Rendimientos históricos de la bolsa (BMV).\n",
    "    X4 = Riesgo país.**\n",
    "    X5 = Rendimientos históricos de la acción.**\n",
    "    X6 = Tasa impositiva histórica aplicable**\n"
   ]
  },
  {
   "cell_type": "markdown",
   "metadata": {},
   "source": [
    "# Objetivo de la investigación\n"
   ]
  },
  {
   "cell_type": "markdown",
   "metadata": {},
   "source": [
    "El objetivo del presente trabajo es determinar la probabilidad de que un inversionista obtenga ganancias de capital al participar en la Bolsa Mexicana de Valores, aplicando el modelo de regresión logística a una serie de variables de corte económico-financiero."
   ]
  },
  {
   "cell_type": "markdown",
   "metadata": {},
   "source": [
    "# Motivación de la investigación\n",
    "\n"
   ]
  },
  {
   "cell_type": "markdown",
   "metadata": {},
   "source": [
    "Las inversiones siempre han sido una gran fuente de ingresos y han sido la base del crecimiento de todas las economías, porque permiten a las empresas, por medio de distintos mecanismos de financiamiento, innovar procesos, sacar nuevos productos y adquirir activos. Los mercados donde se lleva a cabo dicha actividad tienen como objetivo incrementar el valor de las empresas y retribuir a aquellos participantes que financiaron a las mismas. Creemos que la idea de transferir capitales se fundamenta en que los participantes del mercado ven grandes incentivos para maximizar sus beneficios, pero en este punto entra un factor clave, el riesgo. Por tanto, nuestra motivación es crear un método, usando herramientas y conocimientos adquiridos a lo largo de la carrera, que le permita a cualquier potencial inversionista saber, en promedio, si sus inversiones, en nuestro país, darán o no frutos."
   ]
  },
  {
   "cell_type": "markdown",
   "metadata": {},
   "source": [
    "#  Por qué y para qué es importante este proyecto."
   ]
  },
  {
   "cell_type": "markdown",
   "metadata": {},
   "source": [
    "Como bien sabemos, el panorama económico actual en el ambiente de inversión, no es nada alentador. Aunado a eso hay un consenso generalmente aceptado que dicta que todos los modelos truenan cuando hay crisis. Sin embargo creemos que esta situación es temporal y, a pesar de que la recuperación lleve mucho tiempo, hay una ventana de oportunidad. Para reactivar la economía se necesita certidumbre (seguridad de que se obtendrán ganancias a la hora de invertir el ingreso disponible), es decir, se necesita un método o modelo que determine la probabilidad promedio de ganar o perder. Lo que buscamos es dar una idea que permita tomar buenas decisiones de inversión a cualquier persona o empresa que guste usar sus ahorros o ingresos en la bolsa mexicana o, en su defecto, en otras."
   ]
  },
  {
   "cell_type": "markdown",
   "metadata": {},
   "source": [
    "# Especificación del modelo."
   ]
  },
  {
   "cell_type": "markdown",
   "metadata": {},
   "source": [
    "Tal como se dijo en los objetivos se usará el modelo logístico:\n"
   ]
  },
  {
   "cell_type": "markdown",
   "metadata": {},
   "source": [
    "$ Prob (Y=1)= \\frac{1}{1+e^(-z)}$ "
   ]
  },
  {
   "cell_type": "markdown",
   "metadata": {},
   "source": [
    "donde $z=α+β_{k} x_{ki}+u_{i}$"
   ]
  },
  {
   "cell_type": "markdown",
   "metadata": {},
   "source": [
    "Donde:\n",
    "\t\n",
    "    Y = Obtener ganancias o pérdidas de capital al invertir en la BMV.\n",
    "\tX1 = Nivel de endeudamiento histórico de las empresas participantes en la BMV.\n",
    "    X2 = Rendimientos históricos de la BMV.\n",
    "\tX3 = Riesgo país histórico.\n",
    "\tX4 = Rendimientos históricos de las acciones en la BMV.\n",
    "\tX5 = Tasa impositiva histórica aplicable.\n",
    "\n"
   ]
  },
  {
   "cell_type": "markdown",
   "metadata": {},
   "source": [
    "Por tanto la especificación del modelo es la siguiente:\n"
   ]
  },
  {
   "cell_type": "markdown",
   "metadata": {},
   "source": [
    "$z=G(α+β_{1}Endeudamiento_{it}+β_{2}rm_{t}+β_{3}R.País_{t}+β_{4}r de acción_{it}+β_{5}Tx_{t}+u_{i})$"
   ]
  },
  {
   "cell_type": "markdown",
   "metadata": {},
   "source": [
    "# Justificación del modelo"
   ]
  },
  {
   "cell_type": "markdown",
   "metadata": {},
   "source": [
    "Como se puede observar, el modelo propuesto en este trabajo trata de integrar las ideas expuestas en el marco teórico. La selección de estas variables fue por:\n",
    "\n",
    "    •\tNivel de endeudamiento.- Medido con el ratio Deuda-Capital, se eligió porque una empresa con altos niveles de deuda generalmente tiene un riesgo mayor, lo que genera normalmente un rendimiento más alto. \n",
    "\n",
    "    •\tRendimientos históricos de la BMV.- También llamado rendimiento de mercado, será medido con el Índice de Precios y Cotizaciones (quien toma como referencia a las 33-35 emisoras más representativas de la economía). Se eligió porque al momento de invertir las sociedades y fondos de inversión lo toman como referencia para comparar acciones y portafolios en específico, si el rendimiento particular es menor, generalmente no se invierte en ese activo, generando una pérdida en su valor.\n",
    "\n",
    "    •\tRiesgo País histórico.- Al representar la posibilidad de que la nación donde se realizará el ejercicio no cumpla con sus obligaciones financieras, pensamos que es una variable de interés ya que a priori existe una relación entre la situación económica gubernamental con la situación empresarial. Las políticas tomadas por el primero afectan la confianza y decisiones del segundo.\n",
    "\n",
    "    •\tRendimientos históricos de las acciones de la BMV.- El comportamiento histórico (tendencia) puede darnos una idea sobre el comportamiento actual y futuro del valor de las acciones.\n",
    "\n",
    "    •\tTasa impositiva.- En cualquier actividad formal de la economía se debe pagar impuestos, obtener ganancias de capital no es una excepción, introducir esta variable vuelve más realista el escenario. No considerar el impuesto conllevaría sesgar los niveles de utilidades.\n",
    "\n",
    "    •\tPara finalizar las ganancias o pérdidas serán medidas como la diferencia en precios entre los periodos t-(t-1). \n"
   ]
  },
  {
   "cell_type": "markdown",
   "metadata": {},
   "source": [
    "# Marco teórico"
   ]
  },
  {
   "cell_type": "markdown",
   "metadata": {},
   "source": [
    "Existen modelos que sirven para determinar la rentabilidad de los activos financieros con el fin de asignarlos a un portafolio o para invertir directamente en ellos. El Capital Asset Pricing Model (CAPM) es muy útil para fines de inversión, al representar una de las mejores alternativas para el cálculo de la tasa de retorno exigida por los inversionistas (Ross, Westerfield & Jaffe, 1995).\n",
    "Este método fue desarrollado por William F. Sharpe (1964), John Lintner (1965) y Jan Mossin (1966), en base a los trabajos de Harry Markowitz. Para ellos los inversionistas optan por aquellas inversiones que dan el mayor rendimiento esperado para un determinado nivel de riesgo, considerando que siempre hay una opción de inversión libre de riesgo. El CAPM puede estimarse con la siguiente regresión:\n",
    "\n"
   ]
  },
  {
   "cell_type": "markdown",
   "metadata": {},
   "source": [
    "$r_{i}=r_{0}+β_{1}(E(r)_{m}-r_{0})+ε$"
   ]
  },
  {
   "cell_type": "markdown",
   "metadata": {},
   "source": [
    "Donde:\n",
    "    \n",
    "    ri = Rendimiento esperado de la inversión\n",
    "    r0 = Tasa libre de riesgo.\n",
    "    E(rm) = Tasa de rendimiento promedio de los activos disponibles en el mercado"
   ]
  },
  {
   "cell_type": "markdown",
   "metadata": {},
   "source": [
    "Otro modelo que también sirve para la estimación de los rendimientos de un activo es la Teoría de Valoración por Arbitraje o APT, propuesta por Stephen A. Ross en 1976, para este autor el retorno esperado de los activos con riesgo depende de una combinación lineal de K factores, es decir, la utilidad de un activo se representa como una función lineal de K elementos. "
   ]
  },
  {
   "cell_type": "markdown",
   "metadata": {},
   "source": [
    "De manera básica la APT considera un retorno mínimo en ausencia de riesgo (tasa libre de riesgo), la tasa de desempleo para cada periodo estudiado, el índice de la Bolsa a estudiar (símil del rendimiento esperado de mercado en el modelo CAPM), la tasa de inflación (medida con el INPC de los periodos a estudiar) y el riesgo país de la bolsa a estudiar. Como se puede observar el rendimiento de un activo es influenciado por el riesgo sistemático, es decir, por las fluctuaciones en variables macroeconómicas no controladas por el público inversor.\n",
    "Por otro lado, está el famoso de Teorema de Modigliani Miller que, en su segunda proposición en un mercado de capitales imperfecto (cuando hay impuestos corporativos y no hay una libre entrada y salida de oferentes y demandantes), se puede determinar el costo del capital accionario, es decir, la tasa de rendimiento que piden los inversionistas para invertir en una empresa tomando como variables explicativas a la tasa fiscal, el ratio deuda-capital, el costo de la deuda (tasa de interés que cobran los acreedores o prestamistas). "
   ]
  },
  {
   "cell_type": "markdown",
   "metadata": {},
   "source": [
    "# Posibles extensiones del modelo propuesto."
   ]
  },
  {
   "cell_type": "markdown",
   "metadata": {},
   "source": [
    "Tal como se observa en el marco teórico, nuestro modelo podría incorporar nuevas variables como las tasas de inflación, es decir, considerar los ajustes en los precios a lo largo del tiempo como un factor explicativo de las pérdidas o ganancias de un activo en la BMV.\n",
    "Considerar a las tasas de desempleo como variable explicativa también suena interesante. A priori puede existir una relación entre la situación operativa de una empresa, el aumento o contracción del número de trabajadores y el valor de sus acciones.\n",
    "\n"
   ]
  },
  {
   "cell_type": "markdown",
   "metadata": {},
   "source": [
    "Bibliografía :\n",
    "       \n",
    "       •De Sousa S. Fernando (2013). Modelos de Valoración de activos financieros (CAPM) y teoría de valoración por arbitraje (APT): Un test empírico. Universidade do Estado de Minas Gerais. Brasil.\n",
    "\n",
    "    •Francisco C. Berenice, Francisco P. Abel (2016). Aplicación de la Teoría del Teorema Modigliani-Miller. Universidad Nacional Pedro Henríquez Ureña. República Dominicana\n"
   ]
  },
  {
   "cell_type": "markdown",
   "metadata": {},
   "source": [
    "# Muestra"
   ]
  },
  {
   "cell_type": "markdown",
   "metadata": {},
   "source": [
    "Para la realizacion de esta muestra se  obtendran las variables antes mencionadas de las 4 empresas con mayor volumen de acciones dentro de la Bolsa Mexiaana de Valores estas empresas son :\n",
    "    \n",
    "   \n",
    "    America Movil (AMXL)\n",
    "    BIMBO (BIMBOA)\n",
    "    CEMEX (CEMEXCPO)\n",
    "    Grupo Mexico (GMEXICOB)\n",
    "    \n",
    "Los precios que se ocuparan serán del 2017/03/01 al 2019/12/31 esto implica que la muestra en lo que respecta a la variable de precios tendra un número de observaciones de 708 por empresa. \n",
    "\n",
    "Para el nivel de endeudamiento como la tasa impositiva aplicable se podra extraer a partir de un analisis de. la información financiera que cada empresa publica,dicha información financiera se obtendra apartir de la página de internet de la Bolsa Mexicana de Valores"
   ]
  },
  {
   "cell_type": "code",
   "execution_count": null,
   "metadata": {},
   "outputs": [],
   "source": [
    "volumen que representan estas empresas**"
   ]
  },
  {
   "cell_type": "markdown",
   "metadata": {},
   "source": [
    "# Data frame "
   ]
  },
  {
   "cell_type": "code",
   "execution_count": 6,
   "metadata": {
    "scrolled": true
   },
   "outputs": [
    {
     "ename": "SyntaxError",
     "evalue": "invalid syntax (<ipython-input-6-ed74c12bc91d>, line 1)",
     "output_type": "error",
     "traceback": [
      "\u001b[0;36m  File \u001b[0;32m\"<ipython-input-6-ed74c12bc91d>\"\u001b[0;36m, line \u001b[0;32m1\u001b[0m\n\u001b[0;31m    pip install investpy==0.9.14\u001b[0m\n\u001b[0m              ^\u001b[0m\n\u001b[0;31mSyntaxError\u001b[0m\u001b[0;31m:\u001b[0m invalid syntax\n"
     ]
    }
   ],
   "source": [
    "pip install investpy==0.9.14\n"
   ]
  },
  {
   "cell_type": "code",
   "execution_count": 2,
   "metadata": {},
   "outputs": [],
   "source": [
    "import investpy\n",
    "import pandas as pd\n",
    "import statsmodels.api as sm\n",
    "import numpy as np"
   ]
  },
  {
   "cell_type": "code",
   "execution_count": 3,
   "metadata": {},
   "outputs": [],
   "source": [
    "df_CEMEXCPO=investpy.get_stock_historical_data(stock='CEMEXCPO',\n",
    "                                        country='mexico',\n",
    "                                        from_date='27/03/2017',\n",
    "                                        to_date='31/12/2019')\n",
    "\n"
   ]
  },
  {
   "cell_type": "code",
   "execution_count": 4,
   "metadata": {},
   "outputs": [],
   "source": [
    "df_BIMBOA=investpy.get_stock_historical_data(stock='BIMBOA',\n",
    "                                        country='mexico',\n",
    "                                        from_date='27/03/2017',\n",
    "                                        to_date='31/12/2019')"
   ]
  },
  {
   "cell_type": "code",
   "execution_count": 5,
   "metadata": {},
   "outputs": [],
   "source": [
    "df_AMXL=df_bimboa=investpy.get_stock_historical_data(stock='AMXL',\n",
    "                                        country='mexico',\n",
    "                                        from_date='27/03/2017',\n",
    "                                        to_date='31/12/2019')"
   ]
  },
  {
   "cell_type": "code",
   "execution_count": 6,
   "metadata": {},
   "outputs": [],
   "source": [
    "df_GMEXICOB=investpy.get_stock_historical_data(stock='GMEXICOB',\n",
    "                                        country='mexico',\n",
    "                                        from_date='27/03/2017',\n",
    "                                        to_date='31/12/2019')"
   ]
  },
  {
   "cell_type": "code",
   "execution_count": 7,
   "metadata": {
    "scrolled": true
   },
   "outputs": [],
   "source": [
    "df_cemexcpo1=df_CEMEXCPO.loc[:,\"Close\",]\n",
    "df_bimboa=df_BIMBOA.loc[:,\"Close\"]\n",
    "df_amxl=df_AMXL.loc[:,\"Close\"]\n",
    "df_gemxicob=df_GMEXICOB.loc[:,\"Close\"]"
   ]
  },
  {
   "cell_type": "code",
   "execution_count": 11,
   "metadata": {},
   "outputs": [
    {
     "data": {
      "text/html": [
       "<div>\n",
       "<style scoped>\n",
       "    .dataframe tbody tr th:only-of-type {\n",
       "        vertical-align: middle;\n",
       "    }\n",
       "\n",
       "    .dataframe tbody tr th {\n",
       "        vertical-align: top;\n",
       "    }\n",
       "\n",
       "    .dataframe thead th {\n",
       "        text-align: right;\n",
       "    }\n",
       "</style>\n",
       "<table border=\"1\" class=\"dataframe\">\n",
       "  <thead>\n",
       "    <tr style=\"text-align: right;\">\n",
       "      <th></th>\n",
       "      <th>CEMEXCPO</th>\n",
       "      <th>BIMBOA</th>\n",
       "      <th>AMXL</th>\n",
       "      <th>GMEXICOB</th>\n",
       "    </tr>\n",
       "    <tr>\n",
       "      <th>Date</th>\n",
       "      <th></th>\n",
       "      <th></th>\n",
       "      <th></th>\n",
       "      <th></th>\n",
       "    </tr>\n",
       "  </thead>\n",
       "  <tbody>\n",
       "    <tr>\n",
       "      <td>2017-03-26</td>\n",
       "      <td>16.154</td>\n",
       "      <td>48.17</td>\n",
       "      <td>13.56</td>\n",
       "      <td>58.22</td>\n",
       "    </tr>\n",
       "    <tr>\n",
       "      <td>2017-03-27</td>\n",
       "      <td>16.077</td>\n",
       "      <td>48.51</td>\n",
       "      <td>13.68</td>\n",
       "      <td>56.61</td>\n",
       "    </tr>\n",
       "    <tr>\n",
       "      <td>2017-03-28</td>\n",
       "      <td>16.087</td>\n",
       "      <td>47.51</td>\n",
       "      <td>13.76</td>\n",
       "      <td>58.17</td>\n",
       "    </tr>\n",
       "    <tr>\n",
       "      <td>2017-03-29</td>\n",
       "      <td>15.923</td>\n",
       "      <td>46.96</td>\n",
       "      <td>13.53</td>\n",
       "      <td>57.54</td>\n",
       "    </tr>\n",
       "    <tr>\n",
       "      <td>2017-03-30</td>\n",
       "      <td>16.298</td>\n",
       "      <td>46.59</td>\n",
       "      <td>13.28</td>\n",
       "      <td>56.28</td>\n",
       "    </tr>\n",
       "    <tr>\n",
       "      <td>...</td>\n",
       "      <td>...</td>\n",
       "      <td>...</td>\n",
       "      <td>...</td>\n",
       "      <td>...</td>\n",
       "    </tr>\n",
       "    <tr>\n",
       "      <td>2019-12-23</td>\n",
       "      <td>7.230</td>\n",
       "      <td>33.81</td>\n",
       "      <td>15.20</td>\n",
       "      <td>53.40</td>\n",
       "    </tr>\n",
       "    <tr>\n",
       "      <td>2019-12-25</td>\n",
       "      <td>7.330</td>\n",
       "      <td>33.74</td>\n",
       "      <td>15.33</td>\n",
       "      <td>54.21</td>\n",
       "    </tr>\n",
       "    <tr>\n",
       "      <td>2019-12-26</td>\n",
       "      <td>7.230</td>\n",
       "      <td>34.88</td>\n",
       "      <td>15.41</td>\n",
       "      <td>53.78</td>\n",
       "    </tr>\n",
       "    <tr>\n",
       "      <td>2019-12-29</td>\n",
       "      <td>7.160</td>\n",
       "      <td>34.88</td>\n",
       "      <td>15.20</td>\n",
       "      <td>51.89</td>\n",
       "    </tr>\n",
       "    <tr>\n",
       "      <td>2019-12-30</td>\n",
       "      <td>7.080</td>\n",
       "      <td>34.43</td>\n",
       "      <td>15.10</td>\n",
       "      <td>51.86</td>\n",
       "    </tr>\n",
       "  </tbody>\n",
       "</table>\n",
       "<p>695 rows × 4 columns</p>\n",
       "</div>"
      ],
      "text/plain": [
       "            CEMEXCPO  BIMBOA   AMXL  GMEXICOB\n",
       "Date                                         \n",
       "2017-03-26    16.154   48.17  13.56     58.22\n",
       "2017-03-27    16.077   48.51  13.68     56.61\n",
       "2017-03-28    16.087   47.51  13.76     58.17\n",
       "2017-03-29    15.923   46.96  13.53     57.54\n",
       "2017-03-30    16.298   46.59  13.28     56.28\n",
       "...              ...     ...    ...       ...\n",
       "2019-12-23     7.230   33.81  15.20     53.40\n",
       "2019-12-25     7.330   33.74  15.33     54.21\n",
       "2019-12-26     7.230   34.88  15.41     53.78\n",
       "2019-12-29     7.160   34.88  15.20     51.89\n",
       "2019-12-30     7.080   34.43  15.10     51.86\n",
       "\n",
       "[695 rows x 4 columns]"
      ]
     },
     "execution_count": 11,
     "metadata": {},
     "output_type": "execute_result"
    }
   ],
   "source": [
    "data = [df_CEMEXCPO[\"Close\"],df_BIMBOA[\"Close\"],df_AMXL[\"Close\"],df_GMEXICOB[\"Close\"]]\n",
    "df3 = pd.concat(data,axis=1,keys=(\"CEMEXCPO\",\"BIMBOA\",\"AMXL\",\"GMEXICOB\"))\n",
    "df3"
   ]
  },
  {
   "cell_type": "code",
   "execution_count": 14,
   "metadata": {},
   "outputs": [],
   "source": [
    "df_cemexcpo2=df_CEMEXCPO.loc[:,\"Volume\"]\n",
    "df_bimbo2=df_BIMBOA.loc[:,\"Volume\"]\n",
    "df_amxl2=df_AMXL.loc[:,\"Volume\"]\n",
    "df_gemxicob2=df_GMEXICOB.loc[:,\"Volume\"]"
   ]
  },
  {
   "cell_type": "code",
   "execution_count": 17,
   "metadata": {},
   "outputs": [
    {
     "data": {
      "text/html": [
       "<div>\n",
       "<style scoped>\n",
       "    .dataframe tbody tr th:only-of-type {\n",
       "        vertical-align: middle;\n",
       "    }\n",
       "\n",
       "    .dataframe tbody tr th {\n",
       "        vertical-align: top;\n",
       "    }\n",
       "\n",
       "    .dataframe thead th {\n",
       "        text-align: right;\n",
       "    }\n",
       "</style>\n",
       "<table border=\"1\" class=\"dataframe\">\n",
       "  <thead>\n",
       "    <tr style=\"text-align: right;\">\n",
       "      <th></th>\n",
       "      <th>CEMEXCPO</th>\n",
       "      <th>BIMBOA</th>\n",
       "      <th>AMXL</th>\n",
       "      <th>GMEXICOB</th>\n",
       "    </tr>\n",
       "    <tr>\n",
       "      <th>Date</th>\n",
       "      <th></th>\n",
       "      <th></th>\n",
       "      <th></th>\n",
       "      <th></th>\n",
       "    </tr>\n",
       "  </thead>\n",
       "  <tbody>\n",
       "    <tr>\n",
       "      <td>2017-03-26</td>\n",
       "      <td>41931612</td>\n",
       "      <td>1172237</td>\n",
       "      <td>39783900</td>\n",
       "      <td>16789636</td>\n",
       "    </tr>\n",
       "    <tr>\n",
       "      <td>2017-03-27</td>\n",
       "      <td>29383976</td>\n",
       "      <td>1371007</td>\n",
       "      <td>38005400</td>\n",
       "      <td>13514367</td>\n",
       "    </tr>\n",
       "    <tr>\n",
       "      <td>2017-03-28</td>\n",
       "      <td>42919860</td>\n",
       "      <td>2012879</td>\n",
       "      <td>55305500</td>\n",
       "      <td>10323328</td>\n",
       "    </tr>\n",
       "    <tr>\n",
       "      <td>2017-03-29</td>\n",
       "      <td>31755844</td>\n",
       "      <td>2712593</td>\n",
       "      <td>32675600</td>\n",
       "      <td>6801787</td>\n",
       "    </tr>\n",
       "    <tr>\n",
       "      <td>2017-03-30</td>\n",
       "      <td>47016148</td>\n",
       "      <td>2720524</td>\n",
       "      <td>76860304</td>\n",
       "      <td>12876243</td>\n",
       "    </tr>\n",
       "    <tr>\n",
       "      <td>...</td>\n",
       "      <td>...</td>\n",
       "      <td>...</td>\n",
       "      <td>...</td>\n",
       "      <td>...</td>\n",
       "    </tr>\n",
       "    <tr>\n",
       "      <td>2019-12-23</td>\n",
       "      <td>1606315</td>\n",
       "      <td>208884</td>\n",
       "      <td>4272700</td>\n",
       "      <td>702425</td>\n",
       "    </tr>\n",
       "    <tr>\n",
       "      <td>2019-12-25</td>\n",
       "      <td>8339033</td>\n",
       "      <td>381510</td>\n",
       "      <td>8001900</td>\n",
       "      <td>1862661</td>\n",
       "    </tr>\n",
       "    <tr>\n",
       "      <td>2019-12-26</td>\n",
       "      <td>16024165</td>\n",
       "      <td>1521974</td>\n",
       "      <td>14085600</td>\n",
       "      <td>2333090</td>\n",
       "    </tr>\n",
       "    <tr>\n",
       "      <td>2019-12-29</td>\n",
       "      <td>18710640</td>\n",
       "      <td>1825398</td>\n",
       "      <td>19458200</td>\n",
       "      <td>2252623</td>\n",
       "    </tr>\n",
       "    <tr>\n",
       "      <td>2019-12-30</td>\n",
       "      <td>7686082</td>\n",
       "      <td>966393</td>\n",
       "      <td>12324800</td>\n",
       "      <td>2804831</td>\n",
       "    </tr>\n",
       "  </tbody>\n",
       "</table>\n",
       "<p>695 rows × 4 columns</p>\n",
       "</div>"
      ],
      "text/plain": [
       "            CEMEXCPO   BIMBOA      AMXL  GMEXICOB\n",
       "Date                                             \n",
       "2017-03-26  41931612  1172237  39783900  16789636\n",
       "2017-03-27  29383976  1371007  38005400  13514367\n",
       "2017-03-28  42919860  2012879  55305500  10323328\n",
       "2017-03-29  31755844  2712593  32675600   6801787\n",
       "2017-03-30  47016148  2720524  76860304  12876243\n",
       "...              ...      ...       ...       ...\n",
       "2019-12-23   1606315   208884   4272700    702425\n",
       "2019-12-25   8339033   381510   8001900   1862661\n",
       "2019-12-26  16024165  1521974  14085600   2333090\n",
       "2019-12-29  18710640  1825398  19458200   2252623\n",
       "2019-12-30   7686082   966393  12324800   2804831\n",
       "\n",
       "[695 rows x 4 columns]"
      ]
     },
     "execution_count": 17,
     "metadata": {},
     "output_type": "execute_result"
    }
   ],
   "source": [
    "data2 = [df_CEMEXCPO[\"Volume\"],df_BIMBOA[\"Volume\"],df_AMXL[\"Volume\"],df_GMEXICOB[\"Volume\"]]\n",
    "df4 = pd.concat(data,axis=1,keys=(\"CEMEXCPO\",\"BIMBOA\",\"AMXL\",\"GMEXICOB\"))\n",
    "df4"
   ]
  },
  {
   "cell_type": "code",
   "execution_count": 24,
   "metadata": {},
   "outputs": [
    {
     "data": {
      "text/html": [
       "<div>\n",
       "<style scoped>\n",
       "    .dataframe tbody tr th:only-of-type {\n",
       "        vertical-align: middle;\n",
       "    }\n",
       "\n",
       "    .dataframe tbody tr th {\n",
       "        vertical-align: top;\n",
       "    }\n",
       "\n",
       "    .dataframe thead th {\n",
       "        text-align: right;\n",
       "    }\n",
       "</style>\n",
       "<table border=\"1\" class=\"dataframe\">\n",
       "  <thead>\n",
       "    <tr style=\"text-align: right;\">\n",
       "      <th></th>\n",
       "      <th>Open</th>\n",
       "      <th>High</th>\n",
       "      <th>Low</th>\n",
       "      <th>Close</th>\n",
       "      <th>Volume</th>\n",
       "      <th>Currency</th>\n",
       "    </tr>\n",
       "    <tr>\n",
       "      <th>Date</th>\n",
       "      <th></th>\n",
       "      <th></th>\n",
       "      <th></th>\n",
       "      <th></th>\n",
       "      <th></th>\n",
       "      <th></th>\n",
       "    </tr>\n",
       "  </thead>\n",
       "  <tbody>\n",
       "    <tr>\n",
       "      <td>2020-04-06</td>\n",
       "      <td>34688.32</td>\n",
       "      <td>35162.47</td>\n",
       "      <td>34361.30</td>\n",
       "      <td>34526.31</td>\n",
       "      <td>209742304</td>\n",
       "      <td>MXN</td>\n",
       "    </tr>\n",
       "    <tr>\n",
       "      <td>2020-04-07</td>\n",
       "      <td>34625.07</td>\n",
       "      <td>34804.15</td>\n",
       "      <td>34284.52</td>\n",
       "      <td>34567.78</td>\n",
       "      <td>173301792</td>\n",
       "      <td>MXN</td>\n",
       "    </tr>\n",
       "    <tr>\n",
       "      <td>2020-04-12</td>\n",
       "      <td>34694.03</td>\n",
       "      <td>34833.56</td>\n",
       "      <td>34414.69</td>\n",
       "      <td>34613.67</td>\n",
       "      <td>162653792</td>\n",
       "      <td>MXN</td>\n",
       "    </tr>\n",
       "    <tr>\n",
       "      <td>2020-04-13</td>\n",
       "      <td>34765.51</td>\n",
       "      <td>35227.60</td>\n",
       "      <td>34562.90</td>\n",
       "      <td>34746.39</td>\n",
       "      <td>183031600</td>\n",
       "      <td>MXN</td>\n",
       "    </tr>\n",
       "    <tr>\n",
       "      <td>2020-04-14</td>\n",
       "      <td>34593.58</td>\n",
       "      <td>34618.40</td>\n",
       "      <td>33805.20</td>\n",
       "      <td>33855.24</td>\n",
       "      <td>216587904</td>\n",
       "      <td>MXN</td>\n",
       "    </tr>\n",
       "    <tr>\n",
       "      <td>2020-04-15</td>\n",
       "      <td>33935.45</td>\n",
       "      <td>34099.10</td>\n",
       "      <td>33303.44</td>\n",
       "      <td>33759.75</td>\n",
       "      <td>251591104</td>\n",
       "      <td>MXN</td>\n",
       "    </tr>\n",
       "    <tr>\n",
       "      <td>2020-04-16</td>\n",
       "      <td>34190.02</td>\n",
       "      <td>34923.76</td>\n",
       "      <td>34190.02</td>\n",
       "      <td>34743.10</td>\n",
       "      <td>162231808</td>\n",
       "      <td>MXN</td>\n",
       "    </tr>\n",
       "    <tr>\n",
       "      <td>2020-04-19</td>\n",
       "      <td>34567.18</td>\n",
       "      <td>34594.97</td>\n",
       "      <td>34140.75</td>\n",
       "      <td>34477.06</td>\n",
       "      <td>153774592</td>\n",
       "      <td>MXN</td>\n",
       "    </tr>\n",
       "    <tr>\n",
       "      <td>2020-04-20</td>\n",
       "      <td>34281.14</td>\n",
       "      <td>34321.20</td>\n",
       "      <td>33826.92</td>\n",
       "      <td>33892.28</td>\n",
       "      <td>122731104</td>\n",
       "      <td>MXN</td>\n",
       "    </tr>\n",
       "    <tr>\n",
       "      <td>2020-04-21</td>\n",
       "      <td>34183.39</td>\n",
       "      <td>34463.13</td>\n",
       "      <td>34105.48</td>\n",
       "      <td>34223.85</td>\n",
       "      <td>200294400</td>\n",
       "      <td>MXN</td>\n",
       "    </tr>\n",
       "    <tr>\n",
       "      <td>2020-04-22</td>\n",
       "      <td>34308.41</td>\n",
       "      <td>34494.98</td>\n",
       "      <td>34165.32</td>\n",
       "      <td>34240.60</td>\n",
       "      <td>197079504</td>\n",
       "      <td>MXN</td>\n",
       "    </tr>\n",
       "    <tr>\n",
       "      <td>2020-04-23</td>\n",
       "      <td>34361.02</td>\n",
       "      <td>34773.14</td>\n",
       "      <td>34113.32</td>\n",
       "      <td>34586.82</td>\n",
       "      <td>281220800</td>\n",
       "      <td>MXN</td>\n",
       "    </tr>\n",
       "    <tr>\n",
       "      <td>2020-04-26</td>\n",
       "      <td>34704.84</td>\n",
       "      <td>35058.41</td>\n",
       "      <td>34488.41</td>\n",
       "      <td>34968.09</td>\n",
       "      <td>198687104</td>\n",
       "      <td>MXN</td>\n",
       "    </tr>\n",
       "    <tr>\n",
       "      <td>2020-04-27</td>\n",
       "      <td>35065.76</td>\n",
       "      <td>35888.47</td>\n",
       "      <td>35065.76</td>\n",
       "      <td>35830.81</td>\n",
       "      <td>344904800</td>\n",
       "      <td>MXN</td>\n",
       "    </tr>\n",
       "    <tr>\n",
       "      <td>2020-04-28</td>\n",
       "      <td>36095.72</td>\n",
       "      <td>36976.65</td>\n",
       "      <td>36095.72</td>\n",
       "      <td>36870.09</td>\n",
       "      <td>196287600</td>\n",
       "      <td>MXN</td>\n",
       "    </tr>\n",
       "    <tr>\n",
       "      <td>2020-04-29</td>\n",
       "      <td>36923.50</td>\n",
       "      <td>36923.50</td>\n",
       "      <td>36096.86</td>\n",
       "      <td>36470.11</td>\n",
       "      <td>246830000</td>\n",
       "      <td>MXN</td>\n",
       "    </tr>\n",
       "    <tr>\n",
       "      <td>2020-05-03</td>\n",
       "      <td>36266.73</td>\n",
       "      <td>36440.82</td>\n",
       "      <td>35645.40</td>\n",
       "      <td>36370.43</td>\n",
       "      <td>233337104</td>\n",
       "      <td>MXN</td>\n",
       "    </tr>\n",
       "    <tr>\n",
       "      <td>2020-05-04</td>\n",
       "      <td>36357.40</td>\n",
       "      <td>36852.59</td>\n",
       "      <td>36356.85</td>\n",
       "      <td>36616.06</td>\n",
       "      <td>148214096</td>\n",
       "      <td>MXN</td>\n",
       "    </tr>\n",
       "    <tr>\n",
       "      <td>2020-05-05</td>\n",
       "      <td>36672.82</td>\n",
       "      <td>37029.16</td>\n",
       "      <td>36532.26</td>\n",
       "      <td>36986.20</td>\n",
       "      <td>150916000</td>\n",
       "      <td>MXN</td>\n",
       "    </tr>\n",
       "  </tbody>\n",
       "</table>\n",
       "</div>"
      ],
      "text/plain": [
       "                Open      High       Low     Close     Volume Currency\n",
       "Date                                                                  \n",
       "2020-04-06  34688.32  35162.47  34361.30  34526.31  209742304      MXN\n",
       "2020-04-07  34625.07  34804.15  34284.52  34567.78  173301792      MXN\n",
       "2020-04-12  34694.03  34833.56  34414.69  34613.67  162653792      MXN\n",
       "2020-04-13  34765.51  35227.60  34562.90  34746.39  183031600      MXN\n",
       "2020-04-14  34593.58  34618.40  33805.20  33855.24  216587904      MXN\n",
       "2020-04-15  33935.45  34099.10  33303.44  33759.75  251591104      MXN\n",
       "2020-04-16  34190.02  34923.76  34190.02  34743.10  162231808      MXN\n",
       "2020-04-19  34567.18  34594.97  34140.75  34477.06  153774592      MXN\n",
       "2020-04-20  34281.14  34321.20  33826.92  33892.28  122731104      MXN\n",
       "2020-04-21  34183.39  34463.13  34105.48  34223.85  200294400      MXN\n",
       "2020-04-22  34308.41  34494.98  34165.32  34240.60  197079504      MXN\n",
       "2020-04-23  34361.02  34773.14  34113.32  34586.82  281220800      MXN\n",
       "2020-04-26  34704.84  35058.41  34488.41  34968.09  198687104      MXN\n",
       "2020-04-27  35065.76  35888.47  35065.76  35830.81  344904800      MXN\n",
       "2020-04-28  36095.72  36976.65  36095.72  36870.09  196287600      MXN\n",
       "2020-04-29  36923.50  36923.50  36096.86  36470.11  246830000      MXN\n",
       "2020-05-03  36266.73  36440.82  35645.40  36370.43  233337104      MXN\n",
       "2020-05-04  36357.40  36852.59  36356.85  36616.06  148214096      MXN\n",
       "2020-05-05  36672.82  37029.16  36532.26  36986.20  150916000      MXN"
      ]
     },
     "execution_count": 24,
     "metadata": {},
     "output_type": "execute_result"
    }
   ],
   "source": [
    "df_IPC=investpy.get_index_recent_data (index=\"S&P/BMV IPC\",\n",
    "                            country='mexico')\n",
    "df_IPC"
   ]
  },
  {
   "cell_type": "code",
   "execution_count": 26,
   "metadata": {},
   "outputs": [
    {
     "data": {
      "text/html": [
       "<div>\n",
       "<style scoped>\n",
       "    .dataframe tbody tr th:only-of-type {\n",
       "        vertical-align: middle;\n",
       "    }\n",
       "\n",
       "    .dataframe tbody tr th {\n",
       "        vertical-align: top;\n",
       "    }\n",
       "\n",
       "    .dataframe thead th {\n",
       "        text-align: right;\n",
       "    }\n",
       "</style>\n",
       "<table border=\"1\" class=\"dataframe\">\n",
       "  <thead>\n",
       "    <tr style=\"text-align: right;\">\n",
       "      <th></th>\n",
       "      <th>Open</th>\n",
       "      <th>High</th>\n",
       "      <th>Low</th>\n",
       "      <th>Close</th>\n",
       "      <th>Volume</th>\n",
       "      <th>Currency</th>\n",
       "    </tr>\n",
       "    <tr>\n",
       "      <th>Date</th>\n",
       "      <th></th>\n",
       "      <th></th>\n",
       "      <th></th>\n",
       "      <th></th>\n",
       "      <th></th>\n",
       "      <th></th>\n",
       "    </tr>\n",
       "  </thead>\n",
       "  <tbody>\n",
       "    <tr>\n",
       "      <td>2017-03-26</td>\n",
       "      <td>16.087</td>\n",
       "      <td>16.192</td>\n",
       "      <td>15.865</td>\n",
       "      <td>16.154</td>\n",
       "      <td>41931612</td>\n",
       "      <td>MXN</td>\n",
       "    </tr>\n",
       "    <tr>\n",
       "      <td>2017-03-27</td>\n",
       "      <td>16.115</td>\n",
       "      <td>16.356</td>\n",
       "      <td>16.010</td>\n",
       "      <td>16.077</td>\n",
       "      <td>29383976</td>\n",
       "      <td>MXN</td>\n",
       "    </tr>\n",
       "    <tr>\n",
       "      <td>2017-03-28</td>\n",
       "      <td>16.019</td>\n",
       "      <td>16.115</td>\n",
       "      <td>15.846</td>\n",
       "      <td>16.087</td>\n",
       "      <td>42919860</td>\n",
       "      <td>MXN</td>\n",
       "    </tr>\n",
       "    <tr>\n",
       "      <td>2017-03-29</td>\n",
       "      <td>16.106</td>\n",
       "      <td>16.212</td>\n",
       "      <td>15.875</td>\n",
       "      <td>15.923</td>\n",
       "      <td>31755844</td>\n",
       "      <td>MXN</td>\n",
       "    </tr>\n",
       "    <tr>\n",
       "      <td>2017-03-30</td>\n",
       "      <td>15.961</td>\n",
       "      <td>16.442</td>\n",
       "      <td>15.952</td>\n",
       "      <td>16.298</td>\n",
       "      <td>47016148</td>\n",
       "      <td>MXN</td>\n",
       "    </tr>\n",
       "    <tr>\n",
       "      <td>...</td>\n",
       "      <td>...</td>\n",
       "      <td>...</td>\n",
       "      <td>...</td>\n",
       "      <td>...</td>\n",
       "      <td>...</td>\n",
       "      <td>...</td>\n",
       "    </tr>\n",
       "    <tr>\n",
       "      <td>2019-12-23</td>\n",
       "      <td>7.220</td>\n",
       "      <td>7.280</td>\n",
       "      <td>7.200</td>\n",
       "      <td>7.230</td>\n",
       "      <td>1606315</td>\n",
       "      <td>MXN</td>\n",
       "    </tr>\n",
       "    <tr>\n",
       "      <td>2019-12-25</td>\n",
       "      <td>7.210</td>\n",
       "      <td>7.350</td>\n",
       "      <td>7.200</td>\n",
       "      <td>7.330</td>\n",
       "      <td>8339033</td>\n",
       "      <td>MXN</td>\n",
       "    </tr>\n",
       "    <tr>\n",
       "      <td>2019-12-26</td>\n",
       "      <td>7.330</td>\n",
       "      <td>7.360</td>\n",
       "      <td>7.190</td>\n",
       "      <td>7.230</td>\n",
       "      <td>16024165</td>\n",
       "      <td>MXN</td>\n",
       "    </tr>\n",
       "    <tr>\n",
       "      <td>2019-12-29</td>\n",
       "      <td>7.270</td>\n",
       "      <td>7.280</td>\n",
       "      <td>7.040</td>\n",
       "      <td>7.160</td>\n",
       "      <td>18710640</td>\n",
       "      <td>MXN</td>\n",
       "    </tr>\n",
       "    <tr>\n",
       "      <td>2019-12-30</td>\n",
       "      <td>7.140</td>\n",
       "      <td>7.160</td>\n",
       "      <td>7.040</td>\n",
       "      <td>7.080</td>\n",
       "      <td>7686082</td>\n",
       "      <td>MXN</td>\n",
       "    </tr>\n",
       "  </tbody>\n",
       "</table>\n",
       "<p>695 rows × 6 columns</p>\n",
       "</div>"
      ],
      "text/plain": [
       "              Open    High     Low   Close    Volume Currency\n",
       "Date                                                         \n",
       "2017-03-26  16.087  16.192  15.865  16.154  41931612      MXN\n",
       "2017-03-27  16.115  16.356  16.010  16.077  29383976      MXN\n",
       "2017-03-28  16.019  16.115  15.846  16.087  42919860      MXN\n",
       "2017-03-29  16.106  16.212  15.875  15.923  31755844      MXN\n",
       "2017-03-30  15.961  16.442  15.952  16.298  47016148      MXN\n",
       "...            ...     ...     ...     ...       ...      ...\n",
       "2019-12-23   7.220   7.280   7.200   7.230   1606315      MXN\n",
       "2019-12-25   7.210   7.350   7.200   7.330   8339033      MXN\n",
       "2019-12-26   7.330   7.360   7.190   7.230  16024165      MXN\n",
       "2019-12-29   7.270   7.280   7.040   7.160  18710640      MXN\n",
       "2019-12-30   7.140   7.160   7.040   7.080   7686082      MXN\n",
       "\n",
       "[695 rows x 6 columns]"
      ]
     },
     "execution_count": 26,
     "metadata": {},
     "output_type": "execute_result"
    }
   ],
   "source": [
    "df_CEMEXCPO"
   ]
  },
  {
   "cell_type": "code",
   "execution_count": null,
   "metadata": {},
   "outputs": [],
   "source": []
  }
 ],
 "metadata": {
  "kernelspec": {
   "display_name": "Python 3",
   "language": "python",
   "name": "python3"
  },
  "language_info": {
   "codemirror_mode": {
    "name": "ipython",
    "version": 3
   },
   "file_extension": ".py",
   "mimetype": "text/x-python",
   "name": "python",
   "nbconvert_exporter": "python",
   "pygments_lexer": "ipython3",
   "version": "3.7.4"
  }
 },
 "nbformat": 4,
 "nbformat_minor": 2
}
