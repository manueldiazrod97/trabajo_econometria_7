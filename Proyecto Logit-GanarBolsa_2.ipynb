{
 "cells": [
  {
   "cell_type": "markdown",
   "metadata": {},
   "source": [
    "# Modelo\n",
    "Objetivo del Modelo: Estimar la probabilidad de tener ganancias o pérdidas de capital de una acción en la BMV.\n",
    "\n",
    "    Y = Gana o pierde valor una acción.\n",
    "    X1 = Razón ganancia/capital (nivel de endeudamiento).\n",
    "    X2 = Número de acciones de esa empresa en circulación. (tengo dudas de donde sacar datos de esta…)\n",
    "    X3 = Rendimientos históricos de la bolsa (BMV).\n",
    "    X4 = Riesgo país.**\n",
    "    X5 = Rendimientos históricos de la acción.**\n",
    "    X6 = Tasa impositiva histórica aplicable**\n"
   ]
  },
  {
   "cell_type": "markdown",
   "metadata": {},
   "source": [
    "# Objetivo de la investigación\n"
   ]
  },
  {
   "cell_type": "markdown",
   "metadata": {},
   "source": [
    "El objetivo del presente trabajo es determinar la probabilidad de que un inversionista obtenga ganancias de capital al participar en la Bolsa Mexicana de Valores, aplicando el modelo de regresión logística a una serie de variables de corte económico-financiero."
   ]
  },
  {
   "cell_type": "markdown",
   "metadata": {},
   "source": [
    "# Motivación de la investigación\n",
    "\n"
   ]
  },
  {
   "cell_type": "markdown",
   "metadata": {},
   "source": [
    "Las inversiones siempre han sido una gran fuente de ingresos y han sido la base del crecimiento de todas las economías, porque permiten a las empresas, por medio de distintos mecanismos de financiamiento, innovar procesos, sacar nuevos productos y adquirir activos. Los mercados donde se lleva a cabo dicha actividad tienen como objetivo incrementar el valor de las empresas y retribuir a aquellos participantes que financiaron a las mismas. Creemos que la idea de transferir capitales se fundamenta en que los participantes del mercado ven grandes incentivos para maximizar sus beneficios, pero en este punto entra un factor clave, el riesgo. Por tanto, nuestra motivación es crear un método, usando herramientas y conocimientos adquiridos a lo largo de la carrera, que le permita a cualquier potencial inversionista saber, en promedio, si sus inversiones, en nuestro país, darán o no frutos."
   ]
  },
  {
   "cell_type": "markdown",
   "metadata": {},
   "source": [
    "#  Por qué y para qué es importante este proyecto."
   ]
  },
  {
   "cell_type": "markdown",
   "metadata": {},
   "source": [
    "Como bien sabemos, el panorama económico actual en el ambiente de inversión, no es nada alentador. Aunado a eso hay un consenso generalmente aceptado que dicta que todos los modelos truenan cuando hay crisis. Sin embargo creemos que esta situación es temporal y, a pesar de que la recuperación lleve mucho tiempo, hay una ventana de oportunidad. Para reactivar la economía se necesita certidumbre (seguridad de que se obtendrán ganancias a la hora de invertir el ingreso disponible), es decir, se necesita un método o modelo que determine la probabilidad promedio de ganar o perder. Lo que buscamos es dar una idea que permita tomar buenas decisiones de inversión a cualquier persona o empresa que guste usar sus ahorros o ingresos en la bolsa mexicana o, en su defecto, en otras."
   ]
  },
  {
   "cell_type": "markdown",
   "metadata": {},
   "source": [
    "# Especificación del modelo."
   ]
  },
  {
   "cell_type": "markdown",
   "metadata": {},
   "source": [
    "Tal como se dijo en los objetivos se usará el modelo logístico:\n"
   ]
  },
  {
   "cell_type": "markdown",
   "metadata": {},
   "source": [
    "$ Prob (Y=1)= \\frac{1}{1+e^(-z)}$ "
   ]
  },
  {
   "cell_type": "markdown",
   "metadata": {},
   "source": [
    "donde $z=α+β_{k} x_{ki}+u_{i}$"
   ]
  },
  {
   "cell_type": "markdown",
   "metadata": {},
   "source": [
    "Donde:\n",
    "\t\n",
    "    Y = Obtener ganancias o pérdidas de capital al invertir en la BMV.\n",
    "\tX1 = Nivel de endeudamiento histórico de las empresas participantes en la BMV.\n",
    "    X2 = Rendimientos históricos de la BMV.\n",
    "\tX3 = Riesgo país histórico.\n",
    "\tX4 = Rendimientos históricos de las acciones en la BMV.\n",
    "\tX5 = Tasa impositiva histórica aplicable.\n",
    "\n"
   ]
  },
  {
   "cell_type": "markdown",
   "metadata": {},
   "source": [
    "Por tanto la especificación del modelo es la siguiente:\n"
   ]
  },
  {
   "cell_type": "markdown",
   "metadata": {},
   "source": [
    "$z=G(α+β_{1}Endeudamiento_{it}+β_{2}rm_{t}+β_{3}R.País_{t}+β_{4}r de acción_{it}+β_{5}Tx_{t}+u_{i})$"
   ]
  },
  {
   "cell_type": "markdown",
   "metadata": {},
   "source": [
    "# Justificación del modelo"
   ]
  },
  {
   "cell_type": "markdown",
   "metadata": {},
   "source": [
    "Como se puede observar, el modelo propuesto en este trabajo trata de integrar las ideas expuestas en el marco teórico. La selección de estas variables fue por:\n",
    "\n",
    "    •\tNivel de endeudamiento.- Medido con el ratio Deuda-Capital, se eligió porque una empresa con altos niveles de deuda generalmente tiene un riesgo mayor, lo que genera normalmente un rendimiento más alto. \n",
    "\n",
    "    •\tRendimientos históricos de la BMV.- También llamado rendimiento de mercado, será medido con el Índice de Precios y Cotizaciones (quien toma como referencia a las 33-35 emisoras más representativas de la economía). Se eligió porque al momento de invertir las sociedades y fondos de inversión lo toman como referencia para comparar acciones y portafolios en específico, si el rendimiento particular es menor, generalmente no se invierte en ese activo, generando una pérdida en su valor.\n",
    "\n",
    "    •\tRiesgo País histórico.- Al representar la posibilidad de que la nación donde se realizará el ejercicio no cumpla con sus obligaciones financieras, pensamos que es una variable de interés ya que a priori existe una relación entre la situación económica gubernamental con la situación empresarial. Las políticas tomadas por el primero afectan la confianza y decisiones del segundo.\n",
    "\n",
    "    •\tRendimientos históricos de las acciones de la BMV.- El comportamiento histórico (tendencia) puede darnos una idea sobre el comportamiento actual y futuro del valor de las acciones.\n",
    "\n",
    "    •\tTasa impositiva.- En cualquier actividad formal de la economía se debe pagar impuestos, obtener ganancias de capital no es una excepción, introducir esta variable vuelve más realista el escenario. No considerar el impuesto conllevaría sesgar los niveles de utilidades.\n",
    "\n",
    "    •\tPara finalizar las ganancias o pérdidas serán medidas como la diferencia en precios entre los periodos t-(t-1). \n"
   ]
  },
  {
   "cell_type": "markdown",
   "metadata": {},
   "source": [
    "# Marco teórico"
   ]
  },
  {
   "cell_type": "markdown",
   "metadata": {},
   "source": [
    "Existen modelos que sirven para determinar la rentabilidad de los activos financieros con el fin de asignarlos a un portafolio o para invertir directamente en ellos. El Capital Asset Pricing Model (CAPM) es muy útil para fines de inversión, al representar una de las mejores alternativas para el cálculo de la tasa de retorno exigida por los inversionistas (Ross, Westerfield & Jaffe, 1995).\n",
    "Este método fue desarrollado por William F. Sharpe (1964), John Lintner (1965) y Jan Mossin (1966), en base a los trabajos de Harry Markowitz. Para ellos los inversionistas optan por aquellas inversiones que dan el mayor rendimiento esperado para un determinado nivel de riesgo, considerando que siempre hay una opción de inversión libre de riesgo. El CAPM puede estimarse con la siguiente regresión:\n",
    "\n"
   ]
  },
  {
   "cell_type": "markdown",
   "metadata": {},
   "source": [
    "$r_{i}=r_{0}+β_{1}(E(r)_{m}-r_{0})+ε$"
   ]
  },
  {
   "cell_type": "markdown",
   "metadata": {},
   "source": [
    "Donde:\n",
    "    \n",
    "    ri = Rendimiento esperado de la inversión\n",
    "    r0 = Tasa libre de riesgo.\n",
    "    E(rm) = Tasa de rendimiento promedio de los activos disponibles en el mercado"
   ]
  },
  {
   "cell_type": "markdown",
   "metadata": {},
   "source": [
    "Otro modelo que también sirve para la estimación de los rendimientos de un activo es la Teoría de Valoración por Arbitraje o APT, propuesta por Stephen A. Ross en 1976, para este autor el retorno esperado de los activos con riesgo depende de una combinación lineal de K factores, es decir, la utilidad de un activo se representa como una función lineal de K elementos. "
   ]
  },
  {
   "cell_type": "markdown",
   "metadata": {},
   "source": [
    "De manera básica la APT considera un retorno mínimo en ausencia de riesgo (tasa libre de riesgo), la tasa de desempleo para cada periodo estudiado, el índice de la Bolsa a estudiar (símil del rendimiento esperado de mercado en el modelo CAPM), la tasa de inflación (medida con el INPC de los periodos a estudiar) y el riesgo país de la bolsa a estudiar. Como se puede observar el rendimiento de un activo es influenciado por el riesgo sistemático, es decir, por las fluctuaciones en variables macroeconómicas no controladas por el público inversor.\n",
    "Por otro lado, está el famoso de Teorema de Modigliani Miller que, en su segunda proposición en un mercado de capitales imperfecto (cuando hay impuestos corporativos y no hay una libre entrada y salida de oferentes y demandantes), se puede determinar el costo del capital accionario, es decir, la tasa de rendimiento que piden los inversionistas para invertir en una empresa tomando como variables explicativas a la tasa fiscal, el ratio deuda-capital, el costo de la deuda (tasa de interés que cobran los acreedores o prestamistas). "
   ]
  },
  {
   "cell_type": "markdown",
   "metadata": {},
   "source": [
    "# Posibles extensiones del modelo propuesto."
   ]
  },
  {
   "cell_type": "markdown",
   "metadata": {},
   "source": [
    "Tal como se observa en el marco teórico, nuestro modelo podría incorporar nuevas variables como las tasas de inflación, es decir, considerar los ajustes en los precios a lo largo del tiempo como un factor explicativo de las pérdidas o ganancias de un activo en la BMV.\n",
    "Considerar a las tasas de desempleo como variable explicativa también suena interesante. A priori puede existir una relación entre la situación operativa de una empresa, el aumento o contracción del número de trabajadores y el valor de sus acciones.\n",
    "\n"
   ]
  },
  {
   "cell_type": "markdown",
   "metadata": {},
   "source": [
    "Bibliografía :\n",
    "       \n",
    "       •De Sousa S. Fernando (2013). Modelos de Valoración de activos financieros (CAPM) y teoría de valoración por arbitraje (APT): Un test empírico. Universidade do Estado de Minas Gerais. Brasil.\n",
    "\n",
    "    •Francisco C. Berenice, Francisco P. Abel (2016). Aplicación de la Teoría del Teorema Modigliani-Miller. Universidad Nacional Pedro Henríquez Ureña. República Dominicana\n"
   ]
  },
  {
   "cell_type": "markdown",
   "metadata": {},
   "source": [
    "# Muestra"
   ]
  },
  {
   "cell_type": "markdown",
   "metadata": {},
   "source": [
    "Para la realizacion de esta muestra se  obtendran las variables antes mencionadas de las 4 empresas con mayor volumen de acciones dentro de la Bolsa Mexiaana de Valores estas empresas son :\n",
    "    \n",
    "   \n",
    "    America Movil (AMXL)\n",
    "    BIMBO (BIMBOA)\n",
    "    CEMEX (CEMEXCPO)\n",
    "    Grupo Mexico (GMEXICOB)\n",
    "    \n",
    "Los precios que se ocuparan serán del 2017/03/01 al 2019/12/31 esto implica que la muestra en lo que respecta a la variable de precios tendra un número de observaciones de 708 por empresa. \n",
    "\n",
    "Para el nivel de endeudamiento como la tasa impositiva aplicable se podra extraer a partir de un analisis de. la información financiera que cada empresa publica,dicha información financiera se obtendra apartir de la página de internet de la Bolsa Mexicana de Valores"
   ]
  },
  {
   "cell_type": "code",
   "execution_count": 1,
   "metadata": {},
   "outputs": [],
   "source": [
    "import investpy\n",
    "import pandas as pd\n",
    "import statsmodels.api as sm\n",
    "import numpy as np\n",
    "from sklearn.linear_model import LogisticRegression \n",
    "from sklearn.metrics import classification_report, confusion_matrix"
   ]
  },
  {
   "cell_type": "markdown",
   "metadata": {},
   "source": [
    "# Precios Acciones "
   ]
  },
  {
   "cell_type": "code",
   "execution_count": 2,
   "metadata": {},
   "outputs": [],
   "source": [
    "df_CEMEXCPO=investpy.get_stock_historical_data(stock='CEMEXCPO',\n",
    "                                        country='mexico',\n",
    "                                        from_date='27/03/2017',\n",
    "                                        to_date='31/12/2019')\n",
    "\n",
    "df_BIMBOA=investpy.get_stock_historical_data(stock='BIMBOA',\n",
    "                                        country='mexico',\n",
    "                                        from_date='27/03/2017',\n",
    "                                        to_date='31/12/2019')\n",
    "\n",
    "df_AMXL=df_bimboa=investpy.get_stock_historical_data(stock='AMXL',\n",
    "                                        country='mexico',\n",
    "                                        from_date='27/03/2017',\n",
    "                                        to_date='31/12/2019')\n",
    "\n",
    "df_GMEXICOB=investpy.get_stock_historical_data(stock='GMEXICOB',\n",
    "                                        country='mexico',\n",
    "                                        from_date='27/03/2017',\n",
    "                                        to_date='31/12/2019')\n",
    "\n",
    "df_CEMEXCPO=df_CEMEXCPO.loc[:,[\"Close\",\"Volume\"]]\n",
    "df_BIMBOA=df_BIMBOA.loc[:,[\"Close\",\"Volume\"]]\n",
    "df_AMXL=df_AMXL.loc[:,[\"Close\",\"Volume\"]]\n",
    "df_GMEXICOB=df_GMEXICOB.loc[:,[\"Close\",\"Volume\"]]\n",
    "\n"
   ]
  },
  {
   "cell_type": "markdown",
   "metadata": {},
   "source": [
    "# IPC"
   ]
  },
  {
   "cell_type": "code",
   "execution_count": 3,
   "metadata": {},
   "outputs": [],
   "source": [
    "df_IPC = investpy.get_index_historical_data(index='S&P/BMV IPC',\n",
    "                                        country='mexico',\n",
    "                                        from_date='27/03/2017',\n",
    "                                        to_date='31/12/2019')\n",
    "\n",
    "df_IPC =df_IPC.loc[:,[\"Close\",\"Volume\"]]\n"
   ]
  },
  {
   "cell_type": "markdown",
   "metadata": {},
   "source": [
    "# Tipo de cambio "
   ]
  },
  {
   "cell_type": "code",
   "execution_count": 4,
   "metadata": {},
   "outputs": [],
   "source": [
    "df_usdmxn= investpy.get_currency_cross_historical_data(currency_cross='USD/MXN',\n",
    "                                                 from_date='27/03/2017',\n",
    "                                                 to_date='31/12/2019')\n",
    "df_usdmxn =df_usdmxn.loc[:,\"Close\"]\n"
   ]
  },
  {
   "cell_type": "markdown",
   "metadata": {},
   "source": [
    "# Tasa libre de riesgo"
   ]
  },
  {
   "cell_type": "code",
   "execution_count": 5,
   "metadata": {},
   "outputs": [],
   "source": [
    "df_bonds=investpy.get_bond_historical_data(bond='Mexico 1M', \n",
    "                                  from_date='27/03/2017', to_date='31/12/2019')\n",
    "df_bonds=df_bonds.loc[:,\"Close\"]\n"
   ]
  },
  {
   "cell_type": "markdown",
   "metadata": {},
   "source": [
    "# Data Frame Base"
   ]
  },
  {
   "cell_type": "code",
   "execution_count": 6,
   "metadata": {
    "scrolled": true
   },
   "outputs": [],
   "source": [
    "df_base = pd.concat([df_CEMEXCPO,df_BIMBOA,df_AMXL,df_GMEXICOB,df_IPC,df_usdmxn,df_bonds],axis=1,\n",
    "                    keys=(\"CEMEXCPO\",\"BIMBOA\",\"AMXL\",\"GMEXICOB\",\"IPC\",\"USD/MXN\",\"MX 1M\"))\n",
    "df_base=df_base.dropna()\n",
    "df_base=pd.DataFrame(df_base)\n"
   ]
  },
  {
   "cell_type": "markdown",
   "metadata": {},
   "source": [
    "\n",
    "# Data Frame CEMEXCPO"
   ]
  },
  {
   "cell_type": "code",
   "execution_count": 7,
   "metadata": {},
   "outputs": [],
   "source": [
    "dfcemex = pd.concat([df_CEMEXCPO,df_IPC,df_usdmxn,df_bonds,],axis=1,\n",
    "                    keys=(\"CEMEXCPO\",\"IPC\",\"USD/MXN\",\"MX 1M\"))\n",
    "dfcemex = dfcemex.dropna()"
   ]
  },
  {
   "cell_type": "markdown",
   "metadata": {},
   "source": [
    "\n",
    "# Y Binaria CEMEXCPO  "
   ]
  },
  {
   "cell_type": "code",
   "execution_count": 8,
   "metadata": {
    "scrolled": true
   },
   "outputs": [],
   "source": [
    "Y_cemex=dfcemex.pct_change()\n",
    "Y_cemex= Y_cemex.fillna(1)\n",
    "Y_cemex=Y_cemex.loc[:,\"CEMEXCPO\"]\n",
    "Y_cemex=Y_cemex.loc[:,\"Close\"]\n",
    "Y_cemex=pd.DataFrame(Y_cemex)"
   ]
  },
  {
   "cell_type": "code",
   "execution_count": 9,
   "metadata": {},
   "outputs": [],
   "source": [
    "y_cemex= []\n",
    "for i in range(len(Y_cemex)):\n",
    "    crec = Y_cemex['Close'][i]\n",
    "    if crec <= 0:\n",
    "        y_cemex.append(0)\n",
    "    else:\n",
    "        y_cemex.append(1)"
   ]
  },
  {
   "cell_type": "markdown",
   "metadata": {},
   "source": [
    "# HACIENDO REGRESIÓN CEMEXCPO"
   ]
  },
  {
   "cell_type": "code",
   "execution_count": 10,
   "metadata": {},
   "outputs": [
    {
     "name": "stdout",
     "output_type": "stream",
     "text": [
      "Optimization terminated successfully.\n",
      "         Current function value: 0.681819\n",
      "         Iterations 4\n"
     ]
    },
    {
     "data": {
      "text/html": [
       "<table class=\"simpletable\">\n",
       "<caption>Logit Regression Results</caption>\n",
       "<tr>\n",
       "  <th>Dep. Variable:</th>           <td>y</td>        <th>  No. Observations:  </th>  <td>   656</td> \n",
       "</tr>\n",
       "<tr>\n",
       "  <th>Model:</th>                 <td>Logit</td>      <th>  Df Residuals:      </th>  <td>   650</td> \n",
       "</tr>\n",
       "<tr>\n",
       "  <th>Method:</th>                 <td>MLE</td>       <th>  Df Model:          </th>  <td>     5</td> \n",
       "</tr>\n",
       "<tr>\n",
       "  <th>Date:</th>            <td>Thu, 14 May 2020</td> <th>  Pseudo R-squ.:     </th> <td>0.008181</td>\n",
       "</tr>\n",
       "<tr>\n",
       "  <th>Time:</th>                <td>10:44:35</td>     <th>  Log-Likelihood:    </th> <td> -447.27</td>\n",
       "</tr>\n",
       "<tr>\n",
       "  <th>converged:</th>             <td>True</td>       <th>  LL-Null:           </th> <td> -450.96</td>\n",
       "</tr>\n",
       "<tr>\n",
       "  <th>Covariance Type:</th>     <td>nonrobust</td>    <th>  LLR p-value:       </th>  <td>0.1940</td> \n",
       "</tr>\n",
       "</table>\n",
       "<table class=\"simpletable\">\n",
       "<tr>\n",
       "         <td></td>            <th>coef</th>     <th>std err</th>      <th>z</th>      <th>P>|z|</th>  <th>[0.025</th>    <th>0.975]</th>  \n",
       "</tr>\n",
       "<tr>\n",
       "  <th>CEMEXCPO_Close</th>  <td>    0.0332</td> <td>    0.059</td> <td>    0.559</td> <td> 0.576</td> <td>   -0.083</td> <td>    0.149</td>\n",
       "</tr>\n",
       "<tr>\n",
       "  <th>CEMEXCPO_Volume</th> <td> 3.051e-09</td> <td> 6.82e-09</td> <td>    0.447</td> <td> 0.655</td> <td>-1.03e-08</td> <td> 1.64e-08</td>\n",
       "</tr>\n",
       "<tr>\n",
       "  <th>IPC_Close</th>       <td>-4.012e-05</td> <td> 4.58e-05</td> <td>   -0.876</td> <td> 0.381</td> <td>   -0.000</td> <td> 4.96e-05</td>\n",
       "</tr>\n",
       "<tr>\n",
       "  <th>IPC_Volume</th>      <td> 1.624e-09</td> <td> 1.72e-09</td> <td>    0.945</td> <td> 0.345</td> <td>-1.74e-09</td> <td> 4.99e-09</td>\n",
       "</tr>\n",
       "<tr>\n",
       "  <th>USD/MXN_Close</th>   <td>    0.0793</td> <td>    0.095</td> <td>    0.834</td> <td> 0.404</td> <td>   -0.107</td> <td>    0.266</td>\n",
       "</tr>\n",
       "<tr>\n",
       "  <th>MX 1M_Close</th>     <td>   -0.0845</td> <td>    0.177</td> <td>   -0.478</td> <td> 0.633</td> <td>   -0.431</td> <td>    0.262</td>\n",
       "</tr>\n",
       "</table>"
      ],
      "text/plain": [
       "<class 'statsmodels.iolib.summary.Summary'>\n",
       "\"\"\"\n",
       "                           Logit Regression Results                           \n",
       "==============================================================================\n",
       "Dep. Variable:                      y   No. Observations:                  656\n",
       "Model:                          Logit   Df Residuals:                      650\n",
       "Method:                           MLE   Df Model:                            5\n",
       "Date:                Thu, 14 May 2020   Pseudo R-squ.:                0.008181\n",
       "Time:                        10:44:35   Log-Likelihood:                -447.27\n",
       "converged:                       True   LL-Null:                       -450.96\n",
       "Covariance Type:            nonrobust   LLR p-value:                    0.1940\n",
       "===================================================================================\n",
       "                      coef    std err          z      P>|z|      [0.025      0.975]\n",
       "-----------------------------------------------------------------------------------\n",
       "CEMEXCPO_Close      0.0332      0.059      0.559      0.576      -0.083       0.149\n",
       "CEMEXCPO_Volume  3.051e-09   6.82e-09      0.447      0.655   -1.03e-08    1.64e-08\n",
       "IPC_Close       -4.012e-05   4.58e-05     -0.876      0.381      -0.000    4.96e-05\n",
       "IPC_Volume       1.624e-09   1.72e-09      0.945      0.345   -1.74e-09    4.99e-09\n",
       "USD/MXN_Close       0.0793      0.095      0.834      0.404      -0.107       0.266\n",
       "MX 1M_Close        -0.0845      0.177     -0.478      0.633      -0.431       0.262\n",
       "===================================================================================\n",
       "\"\"\""
      ]
     },
     "execution_count": 10,
     "metadata": {},
     "output_type": "execute_result"
    }
   ],
   "source": [
    "Xcemex=dfcemex\n",
    "Ycemex=y_cemex\n",
    "resultadocemex=sm.Logit(Ycemex,Xcemex).fit()\n",
    "resultadocemex.summary()"
   ]
  },
  {
   "cell_type": "code",
   "execution_count": 23,
   "metadata": {},
   "outputs": [
    {
     "data": {
      "text/plain": [
       "array([[1.        , 0.9983707 , 0.99998854, ..., 0.9992526 , 0.99999623,\n",
       "        0.99766505],\n",
       "       [0.9983707 , 1.        , 0.99863244, ..., 0.99541897, 0.99852287,\n",
       "        0.99993647],\n",
       "       [0.99998854, 0.99863244, 1.        , ..., 0.99905609, 0.99999785,\n",
       "        0.99798057],\n",
       "       ...,\n",
       "       [0.9992526 , 0.99541897, 0.99905609, ..., 1.        , 0.99914334,\n",
       "        0.99427994],\n",
       "       [0.99999623, 0.99852287, 0.99999785, ..., 0.99914334, 1.        ,\n",
       "        0.99784806],\n",
       "       [0.99766505, 0.99993647, 0.99798057, ..., 0.99427994, 0.99784806,\n",
       "        1.        ]])"
      ]
     },
     "execution_count": 23,
     "metadata": {},
     "output_type": "execute_result"
    }
   ],
   "source": [
    "np.corrcoef(Xcemex)"
   ]
  },
  {
   "cell_type": "markdown",
   "metadata": {},
   "source": [
    "# Data Frame BIMBOA"
   ]
  },
  {
   "cell_type": "code",
   "execution_count": 11,
   "metadata": {},
   "outputs": [],
   "source": [
    "dfbimboa = pd.concat([df_BIMBOA,df_IPC,df_usdmxn,df_bonds],axis=1,\n",
    "                    keys=(\"BIMBOA\",\"IPC\",\"USD/MXN\",\"MX 1M\"))\n",
    "dfbimboa = dfbimboa.dropna()"
   ]
  },
  {
   "cell_type": "markdown",
   "metadata": {},
   "source": [
    "# Y Binaria BIMBOA  "
   ]
  },
  {
   "cell_type": "code",
   "execution_count": 12,
   "metadata": {
    "scrolled": true
   },
   "outputs": [],
   "source": [
    "Y_bimboa=dfbimboa.pct_change()\n",
    "Y_bimboa= Y_bimboa.fillna(1)\n",
    "Y_bimboa=Y_bimboa.loc[:,\"BIMBOA\"]\n",
    "Y_bimboa=Y_bimboa.loc[:,\"Close\"]\n",
    "Y_bimboa=pd.DataFrame(Y_bimboa)"
   ]
  },
  {
   "cell_type": "code",
   "execution_count": 13,
   "metadata": {},
   "outputs": [],
   "source": [
    "y_bimboa=[]\n",
    "for i in range(len(Y_bimboa)):\n",
    "    crec = Y_bimboa['Close'][i]\n",
    "    if crec <= 0:\n",
    "        y_bimboa.append(0)\n",
    "    else:\n",
    "        y_bimboa.append(1)"
   ]
  },
  {
   "cell_type": "markdown",
   "metadata": {},
   "source": [
    "# HACIENDO REGRESIÓN BIMBOA"
   ]
  },
  {
   "cell_type": "code",
   "execution_count": 14,
   "metadata": {
    "scrolled": false
   },
   "outputs": [
    {
     "name": "stdout",
     "output_type": "stream",
     "text": [
      "Optimization terminated successfully.\n",
      "         Current function value: 0.688090\n",
      "         Iterations 4\n"
     ]
    },
    {
     "data": {
      "text/html": [
       "<table class=\"simpletable\">\n",
       "<caption>Logit Regression Results</caption>\n",
       "<tr>\n",
       "  <th>Dep. Variable:</th>           <td>y</td>        <th>  No. Observations:  </th>  <td>   656</td> \n",
       "</tr>\n",
       "<tr>\n",
       "  <th>Model:</th>                 <td>Logit</td>      <th>  Df Residuals:      </th>  <td>   650</td> \n",
       "</tr>\n",
       "<tr>\n",
       "  <th>Method:</th>                 <td>MLE</td>       <th>  Df Model:          </th>  <td>     5</td> \n",
       "</tr>\n",
       "<tr>\n",
       "  <th>Date:</th>            <td>Thu, 14 May 2020</td> <th>  Pseudo R-squ.:     </th> <td>0.006336</td>\n",
       "</tr>\n",
       "<tr>\n",
       "  <th>Time:</th>                <td>10:44:35</td>     <th>  Log-Likelihood:    </th> <td> -451.39</td>\n",
       "</tr>\n",
       "<tr>\n",
       "  <th>converged:</th>             <td>True</td>       <th>  LL-Null:           </th> <td> -454.27</td>\n",
       "</tr>\n",
       "<tr>\n",
       "  <th>Covariance Type:</th>     <td>nonrobust</td>    <th>  LLR p-value:       </th>  <td>0.3306</td> \n",
       "</tr>\n",
       "</table>\n",
       "<table class=\"simpletable\">\n",
       "<tr>\n",
       "        <td></td>           <th>coef</th>     <th>std err</th>      <th>z</th>      <th>P>|z|</th>  <th>[0.025</th>    <th>0.975]</th>  \n",
       "</tr>\n",
       "<tr>\n",
       "  <th>BIMBOA_Close</th>  <td>    0.0536</td> <td>    0.032</td> <td>    1.694</td> <td> 0.090</td> <td>   -0.008</td> <td>    0.116</td>\n",
       "</tr>\n",
       "<tr>\n",
       "  <th>BIMBOA_Volume</th> <td> 8.395e-08</td> <td> 5.56e-08</td> <td>    1.509</td> <td> 0.131</td> <td>-2.51e-08</td> <td> 1.93e-07</td>\n",
       "</tr>\n",
       "<tr>\n",
       "  <th>IPC_Close</th>     <td>-4.088e-05</td> <td> 3.36e-05</td> <td>   -1.219</td> <td> 0.223</td> <td>   -0.000</td> <td> 2.49e-05</td>\n",
       "</tr>\n",
       "<tr>\n",
       "  <th>IPC_Volume</th>    <td>-9.872e-10</td> <td> 1.37e-09</td> <td>   -0.719</td> <td> 0.472</td> <td>-3.68e-09</td> <td>  1.7e-09</td>\n",
       "</tr>\n",
       "<tr>\n",
       "  <th>USD/MXN_Close</th> <td>   -0.0360</td> <td>    0.087</td> <td>   -0.413</td> <td> 0.679</td> <td>   -0.207</td> <td>    0.135</td>\n",
       "</tr>\n",
       "<tr>\n",
       "  <th>MX 1M_Close</th>   <td>    0.0392</td> <td>    0.160</td> <td>    0.245</td> <td> 0.806</td> <td>   -0.274</td> <td>    0.352</td>\n",
       "</tr>\n",
       "</table>"
      ],
      "text/plain": [
       "<class 'statsmodels.iolib.summary.Summary'>\n",
       "\"\"\"\n",
       "                           Logit Regression Results                           \n",
       "==============================================================================\n",
       "Dep. Variable:                      y   No. Observations:                  656\n",
       "Model:                          Logit   Df Residuals:                      650\n",
       "Method:                           MLE   Df Model:                            5\n",
       "Date:                Thu, 14 May 2020   Pseudo R-squ.:                0.006336\n",
       "Time:                        10:44:35   Log-Likelihood:                -451.39\n",
       "converged:                       True   LL-Null:                       -454.27\n",
       "Covariance Type:            nonrobust   LLR p-value:                    0.3306\n",
       "=================================================================================\n",
       "                    coef    std err          z      P>|z|      [0.025      0.975]\n",
       "---------------------------------------------------------------------------------\n",
       "BIMBOA_Close      0.0536      0.032      1.694      0.090      -0.008       0.116\n",
       "BIMBOA_Volume  8.395e-08   5.56e-08      1.509      0.131   -2.51e-08    1.93e-07\n",
       "IPC_Close     -4.088e-05   3.36e-05     -1.219      0.223      -0.000    2.49e-05\n",
       "IPC_Volume    -9.872e-10   1.37e-09     -0.719      0.472   -3.68e-09     1.7e-09\n",
       "USD/MXN_Close    -0.0360      0.087     -0.413      0.679      -0.207       0.135\n",
       "MX 1M_Close       0.0392      0.160      0.245      0.806      -0.274       0.352\n",
       "=================================================================================\n",
       "\"\"\""
      ]
     },
     "execution_count": 14,
     "metadata": {},
     "output_type": "execute_result"
    }
   ],
   "source": [
    "X_bimboa=dfbimboa\n",
    "Ybimboa=y_bimboa\n",
    "resultadobimboa=sm.Logit(Ybimboa,X_bimboa).fit()\n",
    "resultadobimboa.summary()"
   ]
  },
  {
   "cell_type": "markdown",
   "metadata": {},
   "source": [
    "# Data Frame AMXL"
   ]
  },
  {
   "cell_type": "code",
   "execution_count": 15,
   "metadata": {},
   "outputs": [],
   "source": [
    "dfAMXL = pd.concat([df_AMXL,df_IPC,df_usdmxn,df_bonds],axis=1,\n",
    "                    keys=(\"AMXL\",\"IPC\",\"USD/MXN\",\"MX 1M\"))\n",
    "dfAMXL = dfAMXL.dropna()"
   ]
  },
  {
   "cell_type": "markdown",
   "metadata": {},
   "source": [
    "# Y Binaria AMXL "
   ]
  },
  {
   "cell_type": "code",
   "execution_count": 16,
   "metadata": {
    "scrolled": true
   },
   "outputs": [],
   "source": [
    "Y_amxl=dfAMXL.pct_change()\n",
    "Y_amxl= Y_amxl.fillna(1)\n",
    "Y_amxl=Y_amxl.loc[:,\"AMXL\"]\n",
    "Y_amxl=Y_amxl.loc[:,\"Close\"]\n",
    "Y_amxl=pd.DataFrame(Y_amxl)"
   ]
  },
  {
   "cell_type": "code",
   "execution_count": 17,
   "metadata": {},
   "outputs": [],
   "source": [
    "y_amxl= []\n",
    "for i in range(len(Y_amxl)):\n",
    "    crec = Y_cemex['Close'][i]\n",
    "    if crec <= 0:\n",
    "        y_amxl.append(0)\n",
    "    else:\n",
    "        y_amxl.append(1)"
   ]
  },
  {
   "cell_type": "markdown",
   "metadata": {},
   "source": [
    "# HACIENDO REGRESIÓN AMXL"
   ]
  },
  {
   "cell_type": "code",
   "execution_count": 18,
   "metadata": {
    "scrolled": false
   },
   "outputs": [
    {
     "name": "stdout",
     "output_type": "stream",
     "text": [
      "Optimization terminated successfully.\n",
      "         Current function value: 0.681537\n",
      "         Iterations 4\n"
     ]
    },
    {
     "data": {
      "text/html": [
       "<table class=\"simpletable\">\n",
       "<caption>Logit Regression Results</caption>\n",
       "<tr>\n",
       "  <th>Dep. Variable:</th>           <td>y</td>        <th>  No. Observations:  </th>  <td>   656</td> \n",
       "</tr>\n",
       "<tr>\n",
       "  <th>Model:</th>                 <td>Logit</td>      <th>  Df Residuals:      </th>  <td>   650</td> \n",
       "</tr>\n",
       "<tr>\n",
       "  <th>Method:</th>                 <td>MLE</td>       <th>  Df Model:          </th>  <td>     5</td> \n",
       "</tr>\n",
       "<tr>\n",
       "  <th>Date:</th>            <td>Thu, 14 May 2020</td> <th>  Pseudo R-squ.:     </th> <td>0.008591</td>\n",
       "</tr>\n",
       "<tr>\n",
       "  <th>Time:</th>                <td>10:44:35</td>     <th>  Log-Likelihood:    </th> <td> -447.09</td>\n",
       "</tr>\n",
       "<tr>\n",
       "  <th>converged:</th>             <td>True</td>       <th>  LL-Null:           </th> <td> -450.96</td>\n",
       "</tr>\n",
       "<tr>\n",
       "  <th>Covariance Type:</th>     <td>nonrobust</td>    <th>  LLR p-value:       </th>  <td>0.1707</td> \n",
       "</tr>\n",
       "</table>\n",
       "<table class=\"simpletable\">\n",
       "<tr>\n",
       "        <td></td>           <th>coef</th>     <th>std err</th>      <th>z</th>      <th>P>|z|</th>  <th>[0.025</th>    <th>0.975]</th>  \n",
       "</tr>\n",
       "<tr>\n",
       "  <th>AMXL_Close</th>    <td>    0.0139</td> <td>    0.083</td> <td>    0.168</td> <td> 0.866</td> <td>   -0.148</td> <td>    0.176</td>\n",
       "</tr>\n",
       "<tr>\n",
       "  <th>AMXL_Volume</th>   <td> -5.99e-09</td> <td> 6.67e-09</td> <td>   -0.898</td> <td> 0.369</td> <td>-1.91e-08</td> <td> 7.09e-09</td>\n",
       "</tr>\n",
       "<tr>\n",
       "  <th>IPC_Close</th>     <td>-2.031e-05</td> <td> 2.88e-05</td> <td>   -0.705</td> <td> 0.481</td> <td>-7.67e-05</td> <td> 3.61e-05</td>\n",
       "</tr>\n",
       "<tr>\n",
       "  <th>IPC_Volume</th>    <td> 4.085e-09</td> <td> 2.26e-09</td> <td>    1.808</td> <td> 0.071</td> <td>-3.44e-10</td> <td> 8.51e-09</td>\n",
       "</tr>\n",
       "<tr>\n",
       "  <th>USD/MXN_Close</th> <td>    0.0564</td> <td>    0.090</td> <td>    0.630</td> <td> 0.528</td> <td>   -0.119</td> <td>    0.232</td>\n",
       "</tr>\n",
       "<tr>\n",
       "  <th>MX 1M_Close</th>   <td>   -0.1314</td> <td>    0.165</td> <td>   -0.798</td> <td> 0.425</td> <td>   -0.454</td> <td>    0.191</td>\n",
       "</tr>\n",
       "</table>"
      ],
      "text/plain": [
       "<class 'statsmodels.iolib.summary.Summary'>\n",
       "\"\"\"\n",
       "                           Logit Regression Results                           \n",
       "==============================================================================\n",
       "Dep. Variable:                      y   No. Observations:                  656\n",
       "Model:                          Logit   Df Residuals:                      650\n",
       "Method:                           MLE   Df Model:                            5\n",
       "Date:                Thu, 14 May 2020   Pseudo R-squ.:                0.008591\n",
       "Time:                        10:44:35   Log-Likelihood:                -447.09\n",
       "converged:                       True   LL-Null:                       -450.96\n",
       "Covariance Type:            nonrobust   LLR p-value:                    0.1707\n",
       "=================================================================================\n",
       "                    coef    std err          z      P>|z|      [0.025      0.975]\n",
       "---------------------------------------------------------------------------------\n",
       "AMXL_Close        0.0139      0.083      0.168      0.866      -0.148       0.176\n",
       "AMXL_Volume    -5.99e-09   6.67e-09     -0.898      0.369   -1.91e-08    7.09e-09\n",
       "IPC_Close     -2.031e-05   2.88e-05     -0.705      0.481   -7.67e-05    3.61e-05\n",
       "IPC_Volume     4.085e-09   2.26e-09      1.808      0.071   -3.44e-10    8.51e-09\n",
       "USD/MXN_Close     0.0564      0.090      0.630      0.528      -0.119       0.232\n",
       "MX 1M_Close      -0.1314      0.165     -0.798      0.425      -0.454       0.191\n",
       "=================================================================================\n",
       "\"\"\""
      ]
     },
     "execution_count": 18,
     "metadata": {},
     "output_type": "execute_result"
    }
   ],
   "source": [
    "Xamxl=dfAMXL\n",
    "Yamxl=y_amxl\n",
    "resultadoamxl=sm.Logit(Yamxl,Xamxl).fit()\n",
    "resultadoamxl.summary()"
   ]
  },
  {
   "cell_type": "markdown",
   "metadata": {},
   "source": [
    "# Data Frame GMEXICOB"
   ]
  },
  {
   "cell_type": "code",
   "execution_count": 19,
   "metadata": {},
   "outputs": [],
   "source": [
    "dfgmexicob = pd.concat([df_GMEXICOB,df_IPC,df_usdmxn,df_bonds],axis=1,\n",
    "                    keys=(\"GMEXICOB\",\"IPC\",\"USD/MXN\",\"MX 1M\"))\n",
    "dfgmexicob = dfgmexicob.dropna()"
   ]
  },
  {
   "cell_type": "markdown",
   "metadata": {},
   "source": [
    "# Y Binaria GMEXICOB "
   ]
  },
  {
   "cell_type": "code",
   "execution_count": 20,
   "metadata": {
    "scrolled": true
   },
   "outputs": [],
   "source": [
    "Y_gmexicob=dfgmexicob.pct_change()\n",
    "Y_gmexicob= Y_gmexicob.fillna(1)\n",
    "Y_gmexicob=Y_gmexicob.loc[:,\"GMEXICOB\"]\n",
    "Y_gmexicob=Y_gmexicob.loc[:,\"Close\"]\n",
    "Y_gmexicob=pd.DataFrame(Y_gmexicob)"
   ]
  },
  {
   "cell_type": "code",
   "execution_count": 21,
   "metadata": {},
   "outputs": [],
   "source": [
    "y_gmexicob= []\n",
    "for i in range(len(Y_cemex)):\n",
    "    crec = Y_cemex['Close'][i]\n",
    "    if crec <= 0:\n",
    "        y_gmexicob.append(0)\n",
    "    else:\n",
    "        y_gmexicob.append(1)"
   ]
  },
  {
   "cell_type": "markdown",
   "metadata": {},
   "source": [
    "# HACIENDO REGRESIÓN GMEXICOB"
   ]
  },
  {
   "cell_type": "code",
   "execution_count": 22,
   "metadata": {
    "scrolled": false
   },
   "outputs": [
    {
     "name": "stdout",
     "output_type": "stream",
     "text": [
      "Optimization terminated successfully.\n",
      "         Current function value: 0.681215\n",
      "         Iterations 4\n"
     ]
    },
    {
     "data": {
      "text/html": [
       "<table class=\"simpletable\">\n",
       "<caption>Logit Regression Results</caption>\n",
       "<tr>\n",
       "  <th>Dep. Variable:</th>           <td>y</td>        <th>  No. Observations:  </th>  <td>   656</td> \n",
       "</tr>\n",
       "<tr>\n",
       "  <th>Model:</th>                 <td>Logit</td>      <th>  Df Residuals:      </th>  <td>   650</td> \n",
       "</tr>\n",
       "<tr>\n",
       "  <th>Method:</th>                 <td>MLE</td>       <th>  Df Model:          </th>  <td>     5</td> \n",
       "</tr>\n",
       "<tr>\n",
       "  <th>Date:</th>            <td>Thu, 14 May 2020</td> <th>  Pseudo R-squ.:     </th> <td>0.009060</td>\n",
       "</tr>\n",
       "<tr>\n",
       "  <th>Time:</th>                <td>10:44:35</td>     <th>  Log-Likelihood:    </th> <td> -446.88</td>\n",
       "</tr>\n",
       "<tr>\n",
       "  <th>converged:</th>             <td>True</td>       <th>  LL-Null:           </th> <td> -450.96</td>\n",
       "</tr>\n",
       "<tr>\n",
       "  <th>Covariance Type:</th>     <td>nonrobust</td>    <th>  LLR p-value:       </th>  <td>0.1471</td> \n",
       "</tr>\n",
       "</table>\n",
       "<table class=\"simpletable\">\n",
       "<tr>\n",
       "         <td></td>            <th>coef</th>     <th>std err</th>      <th>z</th>      <th>P>|z|</th>  <th>[0.025</th>    <th>0.975]</th>  \n",
       "</tr>\n",
       "<tr>\n",
       "  <th>GMEXICOB_Close</th>  <td>   -0.0138</td> <td>    0.018</td> <td>   -0.759</td> <td> 0.448</td> <td>   -0.049</td> <td>    0.022</td>\n",
       "</tr>\n",
       "<tr>\n",
       "  <th>GMEXICOB_Volume</th> <td> 1.509e-08</td> <td> 2.16e-08</td> <td>    0.699</td> <td> 0.484</td> <td>-2.72e-08</td> <td> 5.74e-08</td>\n",
       "</tr>\n",
       "<tr>\n",
       "  <th>IPC_Close</th>       <td> 1.082e-06</td> <td> 3.14e-05</td> <td>    0.034</td> <td> 0.973</td> <td>-6.05e-05</td> <td> 6.26e-05</td>\n",
       "</tr>\n",
       "<tr>\n",
       "  <th>IPC_Volume</th>      <td> 1.651e-09</td> <td> 1.39e-09</td> <td>    1.189</td> <td> 0.234</td> <td>-1.07e-09</td> <td> 4.37e-09</td>\n",
       "</tr>\n",
       "<tr>\n",
       "  <th>USD/MXN_Close</th>   <td>    0.0490</td> <td>    0.089</td> <td>    0.552</td> <td> 0.581</td> <td>   -0.125</td> <td>    0.223</td>\n",
       "</tr>\n",
       "<tr>\n",
       "  <th>MX 1M_Close</th>     <td>   -0.1141</td> <td>    0.162</td> <td>   -0.703</td> <td> 0.482</td> <td>   -0.432</td> <td>    0.204</td>\n",
       "</tr>\n",
       "</table>"
      ],
      "text/plain": [
       "<class 'statsmodels.iolib.summary.Summary'>\n",
       "\"\"\"\n",
       "                           Logit Regression Results                           \n",
       "==============================================================================\n",
       "Dep. Variable:                      y   No. Observations:                  656\n",
       "Model:                          Logit   Df Residuals:                      650\n",
       "Method:                           MLE   Df Model:                            5\n",
       "Date:                Thu, 14 May 2020   Pseudo R-squ.:                0.009060\n",
       "Time:                        10:44:35   Log-Likelihood:                -446.88\n",
       "converged:                       True   LL-Null:                       -450.96\n",
       "Covariance Type:            nonrobust   LLR p-value:                    0.1471\n",
       "===================================================================================\n",
       "                      coef    std err          z      P>|z|      [0.025      0.975]\n",
       "-----------------------------------------------------------------------------------\n",
       "GMEXICOB_Close     -0.0138      0.018     -0.759      0.448      -0.049       0.022\n",
       "GMEXICOB_Volume  1.509e-08   2.16e-08      0.699      0.484   -2.72e-08    5.74e-08\n",
       "IPC_Close        1.082e-06   3.14e-05      0.034      0.973   -6.05e-05    6.26e-05\n",
       "IPC_Volume       1.651e-09   1.39e-09      1.189      0.234   -1.07e-09    4.37e-09\n",
       "USD/MXN_Close       0.0490      0.089      0.552      0.581      -0.125       0.223\n",
       "MX 1M_Close        -0.1141      0.162     -0.703      0.482      -0.432       0.204\n",
       "===================================================================================\n",
       "\"\"\""
      ]
     },
     "execution_count": 22,
     "metadata": {},
     "output_type": "execute_result"
    }
   ],
   "source": [
    "Xgmexicob=dfgmexicob\n",
    "Ygmexicob=y_gmexicob\n",
    "resultadogmexicob=sm.Logit(Ygmexicob,Xgmexicob).fit()\n",
    "resultadogmexicob.summary()"
   ]
  },
  {
   "cell_type": "markdown",
   "metadata": {},
   "source": [
    "# Exploracion de Datos "
   ]
  },
  {
   "cell_type": "code",
   "execution_count": 26,
   "metadata": {
    "scrolled": true
   },
   "outputs": [
    {
     "name": "stdout",
     "output_type": "stream",
     "text": [
      "Collecting plotly==4.7.1\n",
      "\u001b[?25l  Downloading https://files.pythonhosted.org/packages/d7/78/eb6cbe96c8379c54819592bb228c58ed7386fcc60a55eca7db99432fdf14/plotly-4.7.1-py2.py3-none-any.whl (11.5MB)\n",
      "\u001b[K     |████████████████████████████████| 11.5MB 2.4MB/s eta 0:00:01\n",
      "\u001b[?25hCollecting retrying>=1.3.3 (from plotly==4.7.1)\n",
      "  Downloading https://files.pythonhosted.org/packages/44/ef/beae4b4ef80902f22e3af073397f079c96969c69b2c7d52a57ea9ae61c9d/retrying-1.3.3.tar.gz\n",
      "Requirement already satisfied: six in /opt/anaconda3/lib/python3.7/site-packages (from plotly==4.7.1) (1.12.0)\n",
      "Building wheels for collected packages: retrying\n",
      "  Building wheel for retrying (setup.py) ... \u001b[?25ldone\n",
      "\u001b[?25h  Created wheel for retrying: filename=retrying-1.3.3-cp37-none-any.whl size=11429 sha256=73ca6b29a1497a277d91688fde3a34b17dbb39f41ff59089227ae5669832fa08\n",
      "  Stored in directory: /Users/manueldiaz/Library/Caches/pip/wheels/d7/a9/33/acc7b709e2a35caa7d4cae442f6fe6fbf2c43f80823d46460c\n",
      "Successfully built retrying\n",
      "Installing collected packages: retrying, plotly\n",
      "Successfully installed plotly-4.7.1 retrying-1.3.3\n",
      "Note: you may need to restart the kernel to use updated packages.\n"
     ]
    }
   ],
   "source": [
    "pip install plotly==4.7.1"
   ]
  },
  {
   "cell_type": "code",
   "execution_count": 33,
   "metadata": {},
   "outputs": [
    {
     "data": {
      "text/html": [
       "<div>\n",
       "<style scoped>\n",
       "    .dataframe tbody tr th:only-of-type {\n",
       "        vertical-align: middle;\n",
       "    }\n",
       "\n",
       "    .dataframe tbody tr th {\n",
       "        vertical-align: top;\n",
       "    }\n",
       "\n",
       "    .dataframe thead tr th {\n",
       "        text-align: left;\n",
       "    }\n",
       "\n",
       "    .dataframe thead tr:last-of-type th {\n",
       "        text-align: right;\n",
       "    }\n",
       "</style>\n",
       "<table border=\"1\" class=\"dataframe\">\n",
       "  <thead>\n",
       "    <tr>\n",
       "      <th></th>\n",
       "      <th colspan=\"2\" halign=\"left\">GMEXICOB</th>\n",
       "      <th colspan=\"2\" halign=\"left\">IPC</th>\n",
       "      <th>USD/MXN</th>\n",
       "      <th>MX 1M</th>\n",
       "    </tr>\n",
       "    <tr>\n",
       "      <th></th>\n",
       "      <th>Close</th>\n",
       "      <th>Volume</th>\n",
       "      <th>Close</th>\n",
       "      <th>Volume</th>\n",
       "      <th>Close</th>\n",
       "      <th>Close</th>\n",
       "    </tr>\n",
       "    <tr>\n",
       "      <th>Date</th>\n",
       "      <th></th>\n",
       "      <th></th>\n",
       "      <th></th>\n",
       "      <th></th>\n",
       "      <th></th>\n",
       "      <th></th>\n",
       "    </tr>\n",
       "  </thead>\n",
       "  <tbody>\n",
       "    <tr>\n",
       "      <td>2017-03-26</td>\n",
       "      <td>58.22</td>\n",
       "      <td>16789636.0</td>\n",
       "      <td>49312.99</td>\n",
       "      <td>181241648.0</td>\n",
       "      <td>18.8905</td>\n",
       "      <td>6.400</td>\n",
       "    </tr>\n",
       "    <tr>\n",
       "      <td>2017-03-27</td>\n",
       "      <td>56.61</td>\n",
       "      <td>13514367.0</td>\n",
       "      <td>49339.24</td>\n",
       "      <td>167514368.0</td>\n",
       "      <td>19.0252</td>\n",
       "      <td>6.451</td>\n",
       "    </tr>\n",
       "    <tr>\n",
       "      <td>2017-03-28</td>\n",
       "      <td>58.17</td>\n",
       "      <td>10323328.0</td>\n",
       "      <td>49036.52</td>\n",
       "      <td>189357664.0</td>\n",
       "      <td>18.7092</td>\n",
       "      <td>6.390</td>\n",
       "    </tr>\n",
       "    <tr>\n",
       "      <td>2017-03-29</td>\n",
       "      <td>57.54</td>\n",
       "      <td>6801787.0</td>\n",
       "      <td>48863.30</td>\n",
       "      <td>146154288.0</td>\n",
       "      <td>18.7190</td>\n",
       "      <td>6.531</td>\n",
       "    </tr>\n",
       "    <tr>\n",
       "      <td>2017-03-30</td>\n",
       "      <td>56.28</td>\n",
       "      <td>12876243.0</td>\n",
       "      <td>48541.56</td>\n",
       "      <td>250132560.0</td>\n",
       "      <td>18.7250</td>\n",
       "      <td>6.460</td>\n",
       "    </tr>\n",
       "    <tr>\n",
       "      <td>...</td>\n",
       "      <td>...</td>\n",
       "      <td>...</td>\n",
       "      <td>...</td>\n",
       "      <td>...</td>\n",
       "      <td>...</td>\n",
       "      <td>...</td>\n",
       "    </tr>\n",
       "    <tr>\n",
       "      <td>2019-12-23</td>\n",
       "      <td>53.40</td>\n",
       "      <td>702425.0</td>\n",
       "      <td>44157.97</td>\n",
       "      <td>13691800.0</td>\n",
       "      <td>18.9810</td>\n",
       "      <td>7.230</td>\n",
       "    </tr>\n",
       "    <tr>\n",
       "      <td>2019-12-25</td>\n",
       "      <td>54.21</td>\n",
       "      <td>1862661.0</td>\n",
       "      <td>44300.17</td>\n",
       "      <td>32194100.0</td>\n",
       "      <td>18.9405</td>\n",
       "      <td>7.190</td>\n",
       "    </tr>\n",
       "    <tr>\n",
       "      <td>2019-12-26</td>\n",
       "      <td>53.78</td>\n",
       "      <td>2333090.0</td>\n",
       "      <td>44261.51</td>\n",
       "      <td>59475000.0</td>\n",
       "      <td>18.8394</td>\n",
       "      <td>7.150</td>\n",
       "    </tr>\n",
       "    <tr>\n",
       "      <td>2019-12-29</td>\n",
       "      <td>51.89</td>\n",
       "      <td>2252623.0</td>\n",
       "      <td>43657.48</td>\n",
       "      <td>81802896.0</td>\n",
       "      <td>18.9315</td>\n",
       "      <td>7.190</td>\n",
       "    </tr>\n",
       "    <tr>\n",
       "      <td>2019-12-30</td>\n",
       "      <td>51.86</td>\n",
       "      <td>2804831.0</td>\n",
       "      <td>43541.02</td>\n",
       "      <td>46721800.0</td>\n",
       "      <td>18.9325</td>\n",
       "      <td>7.230</td>\n",
       "    </tr>\n",
       "  </tbody>\n",
       "</table>\n",
       "<p>656 rows × 6 columns</p>\n",
       "</div>"
      ],
      "text/plain": [
       "           GMEXICOB                   IPC               USD/MXN  MX 1M\n",
       "              Close      Volume     Close       Volume    Close  Close\n",
       "Date                                                                  \n",
       "2017-03-26    58.22  16789636.0  49312.99  181241648.0  18.8905  6.400\n",
       "2017-03-27    56.61  13514367.0  49339.24  167514368.0  19.0252  6.451\n",
       "2017-03-28    58.17  10323328.0  49036.52  189357664.0  18.7092  6.390\n",
       "2017-03-29    57.54   6801787.0  48863.30  146154288.0  18.7190  6.531\n",
       "2017-03-30    56.28  12876243.0  48541.56  250132560.0  18.7250  6.460\n",
       "...             ...         ...       ...          ...      ...    ...\n",
       "2019-12-23    53.40    702425.0  44157.97   13691800.0  18.9810  7.230\n",
       "2019-12-25    54.21   1862661.0  44300.17   32194100.0  18.9405  7.190\n",
       "2019-12-26    53.78   2333090.0  44261.51   59475000.0  18.8394  7.150\n",
       "2019-12-29    51.89   2252623.0  43657.48   81802896.0  18.9315  7.190\n",
       "2019-12-30    51.86   2804831.0  43541.02   46721800.0  18.9325  7.230\n",
       "\n",
       "[656 rows x 6 columns]"
      ]
     },
     "execution_count": 33,
     "metadata": {},
     "output_type": "execute_result"
    }
   ],
   "source": [
    "Xgmexicob"
   ]
  },
  {
   "cell_type": "code",
   "execution_count": 27,
   "metadata": {},
   "outputs": [],
   "source": [
    "import plotly.express as px"
   ]
  },
  {
   "cell_type": "code",
   "execution_count": 42,
   "metadata": {},
   "outputs": [
    {
     "ename": "ValueError",
     "evalue": "DataFrame constructor not properly called!",
     "output_type": "error",
     "traceback": [
      "\u001b[0;31m---------------------------------------------------------------------------\u001b[0m",
      "\u001b[0;31mValueError\u001b[0m                                Traceback (most recent call last)",
      "\u001b[0;32m<ipython-input-42-98784e73674b>\u001b[0m in \u001b[0;36m<module>\u001b[0;34m\u001b[0m\n\u001b[0;32m----> 1\u001b[0;31m \u001b[0mpx\u001b[0m\u001b[0;34m.\u001b[0m\u001b[0mscatter\u001b[0m\u001b[0;34m(\u001b[0m\u001b[0mresultadogmexicob\u001b[0m\u001b[0;34m)\u001b[0m\u001b[0;34m\u001b[0m\u001b[0;34m\u001b[0m\u001b[0m\n\u001b[0m",
      "\u001b[0;32m/opt/anaconda3/lib/python3.7/site-packages/plotly/express/_chart_types.py\u001b[0m in \u001b[0;36mscatter\u001b[0;34m(data_frame, x, y, color, symbol, size, hover_name, hover_data, custom_data, text, facet_row, facet_col, facet_col_wrap, error_x, error_x_minus, error_y, error_y_minus, animation_frame, animation_group, category_orders, labels, color_discrete_sequence, color_discrete_map, color_continuous_scale, range_color, color_continuous_midpoint, symbol_sequence, symbol_map, opacity, size_max, marginal_x, marginal_y, trendline, trendline_color_override, log_x, log_y, range_x, range_y, render_mode, title, template, width, height)\u001b[0m\n\u001b[1;32m     53\u001b[0m     \u001b[0mmark\u001b[0m \u001b[0;32min\u001b[0m \u001b[0;36m2\u001b[0m\u001b[0mD\u001b[0m \u001b[0mspace\u001b[0m\u001b[0;34m.\u001b[0m\u001b[0;34m\u001b[0m\u001b[0;34m\u001b[0m\u001b[0m\n\u001b[1;32m     54\u001b[0m     \"\"\"\n\u001b[0;32m---> 55\u001b[0;31m     \u001b[0;32mreturn\u001b[0m \u001b[0mmake_figure\u001b[0m\u001b[0;34m(\u001b[0m\u001b[0margs\u001b[0m\u001b[0;34m=\u001b[0m\u001b[0mlocals\u001b[0m\u001b[0;34m(\u001b[0m\u001b[0;34m)\u001b[0m\u001b[0;34m,\u001b[0m \u001b[0mconstructor\u001b[0m\u001b[0;34m=\u001b[0m\u001b[0mgo\u001b[0m\u001b[0;34m.\u001b[0m\u001b[0mScatter\u001b[0m\u001b[0;34m)\u001b[0m\u001b[0;34m\u001b[0m\u001b[0;34m\u001b[0m\u001b[0m\n\u001b[0m\u001b[1;32m     56\u001b[0m \u001b[0;34m\u001b[0m\u001b[0m\n\u001b[1;32m     57\u001b[0m \u001b[0;34m\u001b[0m\u001b[0m\n",
      "\u001b[0;32m/opt/anaconda3/lib/python3.7/site-packages/plotly/express/_core.py\u001b[0m in \u001b[0;36mmake_figure\u001b[0;34m(args, constructor, trace_patch, layout_patch)\u001b[0m\n\u001b[1;32m   1430\u001b[0m \u001b[0;34m\u001b[0m\u001b[0m\n\u001b[1;32m   1431\u001b[0m     args, trace_specs, grouped_mappings, sizeref, show_colorbar = infer_config(\n\u001b[0;32m-> 1432\u001b[0;31m         \u001b[0margs\u001b[0m\u001b[0;34m,\u001b[0m \u001b[0mconstructor\u001b[0m\u001b[0;34m,\u001b[0m \u001b[0mtrace_patch\u001b[0m\u001b[0;34m\u001b[0m\u001b[0;34m\u001b[0m\u001b[0m\n\u001b[0m\u001b[1;32m   1433\u001b[0m     )\n\u001b[1;32m   1434\u001b[0m     \u001b[0mgrouper\u001b[0m \u001b[0;34m=\u001b[0m \u001b[0;34m[\u001b[0m\u001b[0mx\u001b[0m\u001b[0;34m.\u001b[0m\u001b[0mgrouper\u001b[0m \u001b[0;32mor\u001b[0m \u001b[0mone_group\u001b[0m \u001b[0;32mfor\u001b[0m \u001b[0mx\u001b[0m \u001b[0;32min\u001b[0m \u001b[0mgrouped_mappings\u001b[0m\u001b[0;34m]\u001b[0m \u001b[0;32mor\u001b[0m \u001b[0;34m[\u001b[0m\u001b[0mone_group\u001b[0m\u001b[0;34m]\u001b[0m\u001b[0;34m\u001b[0m\u001b[0;34m\u001b[0m\u001b[0m\n",
      "\u001b[0;32m/opt/anaconda3/lib/python3.7/site-packages/plotly/express/_core.py\u001b[0m in \u001b[0;36minfer_config\u001b[0;34m(args, constructor, trace_patch)\u001b[0m\n\u001b[1;32m   1273\u001b[0m             \u001b[0mall_attrables\u001b[0m \u001b[0;34m+=\u001b[0m \u001b[0;34m[\u001b[0m\u001b[0mgroup_attr\u001b[0m\u001b[0;34m]\u001b[0m\u001b[0;34m\u001b[0m\u001b[0;34m\u001b[0m\u001b[0m\n\u001b[1;32m   1274\u001b[0m \u001b[0;34m\u001b[0m\u001b[0m\n\u001b[0;32m-> 1275\u001b[0;31m     \u001b[0margs\u001b[0m \u001b[0;34m=\u001b[0m \u001b[0mbuild_dataframe\u001b[0m\u001b[0;34m(\u001b[0m\u001b[0margs\u001b[0m\u001b[0;34m,\u001b[0m \u001b[0mall_attrables\u001b[0m\u001b[0;34m,\u001b[0m \u001b[0marray_attrables\u001b[0m\u001b[0;34m)\u001b[0m\u001b[0;34m\u001b[0m\u001b[0;34m\u001b[0m\u001b[0m\n\u001b[0m\u001b[1;32m   1276\u001b[0m     \u001b[0;32mif\u001b[0m \u001b[0mconstructor\u001b[0m \u001b[0;32min\u001b[0m \u001b[0;34m[\u001b[0m\u001b[0mgo\u001b[0m\u001b[0;34m.\u001b[0m\u001b[0mTreemap\u001b[0m\u001b[0;34m,\u001b[0m \u001b[0mgo\u001b[0m\u001b[0;34m.\u001b[0m\u001b[0mSunburst\u001b[0m\u001b[0;34m]\u001b[0m \u001b[0;32mand\u001b[0m \u001b[0margs\u001b[0m\u001b[0;34m[\u001b[0m\u001b[0;34m\"path\"\u001b[0m\u001b[0;34m]\u001b[0m \u001b[0;32mis\u001b[0m \u001b[0;32mnot\u001b[0m \u001b[0;32mNone\u001b[0m\u001b[0;34m:\u001b[0m\u001b[0;34m\u001b[0m\u001b[0;34m\u001b[0m\u001b[0m\n\u001b[1;32m   1277\u001b[0m         \u001b[0margs\u001b[0m \u001b[0;34m=\u001b[0m \u001b[0mprocess_dataframe_hierarchy\u001b[0m\u001b[0;34m(\u001b[0m\u001b[0margs\u001b[0m\u001b[0;34m)\u001b[0m\u001b[0;34m\u001b[0m\u001b[0;34m\u001b[0m\u001b[0m\n",
      "\u001b[0;32m/opt/anaconda3/lib/python3.7/site-packages/plotly/express/_core.py\u001b[0m in \u001b[0;36mbuild_dataframe\u001b[0;34m(args, attrables, array_attrables)\u001b[0m\n\u001b[1;32m    937\u001b[0m     \u001b[0mdf_provided\u001b[0m \u001b[0;34m=\u001b[0m \u001b[0margs\u001b[0m\u001b[0;34m[\u001b[0m\u001b[0;34m\"data_frame\"\u001b[0m\u001b[0;34m]\u001b[0m \u001b[0;32mis\u001b[0m \u001b[0;32mnot\u001b[0m \u001b[0;32mNone\u001b[0m\u001b[0;34m\u001b[0m\u001b[0;34m\u001b[0m\u001b[0m\n\u001b[1;32m    938\u001b[0m     \u001b[0;32mif\u001b[0m \u001b[0mdf_provided\u001b[0m \u001b[0;32mand\u001b[0m \u001b[0;32mnot\u001b[0m \u001b[0misinstance\u001b[0m\u001b[0;34m(\u001b[0m\u001b[0margs\u001b[0m\u001b[0;34m[\u001b[0m\u001b[0;34m\"data_frame\"\u001b[0m\u001b[0;34m]\u001b[0m\u001b[0;34m,\u001b[0m \u001b[0mpd\u001b[0m\u001b[0;34m.\u001b[0m\u001b[0mDataFrame\u001b[0m\u001b[0;34m)\u001b[0m\u001b[0;34m:\u001b[0m\u001b[0;34m\u001b[0m\u001b[0;34m\u001b[0m\u001b[0m\n\u001b[0;32m--> 939\u001b[0;31m         \u001b[0margs\u001b[0m\u001b[0;34m[\u001b[0m\u001b[0;34m\"data_frame\"\u001b[0m\u001b[0;34m]\u001b[0m \u001b[0;34m=\u001b[0m \u001b[0mpd\u001b[0m\u001b[0;34m.\u001b[0m\u001b[0mDataFrame\u001b[0m\u001b[0;34m(\u001b[0m\u001b[0margs\u001b[0m\u001b[0;34m[\u001b[0m\u001b[0;34m\"data_frame\"\u001b[0m\u001b[0;34m]\u001b[0m\u001b[0;34m)\u001b[0m\u001b[0;34m\u001b[0m\u001b[0;34m\u001b[0m\u001b[0m\n\u001b[0m\u001b[1;32m    940\u001b[0m     \u001b[0mdf_input\u001b[0m \u001b[0;34m=\u001b[0m \u001b[0margs\u001b[0m\u001b[0;34m[\u001b[0m\u001b[0;34m\"data_frame\"\u001b[0m\u001b[0;34m]\u001b[0m\u001b[0;34m\u001b[0m\u001b[0;34m\u001b[0m\u001b[0m\n\u001b[1;32m    941\u001b[0m \u001b[0;34m\u001b[0m\u001b[0m\n",
      "\u001b[0;32m/opt/anaconda3/lib/python3.7/site-packages/pandas/core/frame.py\u001b[0m in \u001b[0;36m__init__\u001b[0;34m(self, data, index, columns, dtype, copy)\u001b[0m\n\u001b[1;32m    483\u001b[0m                 )\n\u001b[1;32m    484\u001b[0m             \u001b[0;32melse\u001b[0m\u001b[0;34m:\u001b[0m\u001b[0;34m\u001b[0m\u001b[0;34m\u001b[0m\u001b[0m\n\u001b[0;32m--> 485\u001b[0;31m                 \u001b[0;32mraise\u001b[0m \u001b[0mValueError\u001b[0m\u001b[0;34m(\u001b[0m\u001b[0;34m\"DataFrame constructor not properly called!\"\u001b[0m\u001b[0;34m)\u001b[0m\u001b[0;34m\u001b[0m\u001b[0;34m\u001b[0m\u001b[0m\n\u001b[0m\u001b[1;32m    486\u001b[0m \u001b[0;34m\u001b[0m\u001b[0m\n\u001b[1;32m    487\u001b[0m         \u001b[0mNDFrame\u001b[0m\u001b[0;34m.\u001b[0m\u001b[0m__init__\u001b[0m\u001b[0;34m(\u001b[0m\u001b[0mself\u001b[0m\u001b[0;34m,\u001b[0m \u001b[0mmgr\u001b[0m\u001b[0;34m,\u001b[0m \u001b[0mfastpath\u001b[0m\u001b[0;34m=\u001b[0m\u001b[0;32mTrue\u001b[0m\u001b[0;34m)\u001b[0m\u001b[0;34m\u001b[0m\u001b[0;34m\u001b[0m\u001b[0m\n",
      "\u001b[0;31mValueError\u001b[0m: DataFrame constructor not properly called!"
     ]
    }
   ],
   "source": [
    "px.scatter(resultadogmexicob)"
   ]
  },
  {
   "cell_type": "code",
   "execution_count": null,
   "metadata": {},
   "outputs": [],
   "source": []
  }
 ],
 "metadata": {
  "kernelspec": {
   "display_name": "Python 3",
   "language": "python",
   "name": "python3"
  },
  "language_info": {
   "codemirror_mode": {
    "name": "ipython",
    "version": 3
   },
   "file_extension": ".py",
   "mimetype": "text/x-python",
   "name": "python",
   "nbconvert_exporter": "python",
   "pygments_lexer": "ipython3",
   "version": "3.7.4"
  }
 },
 "nbformat": 4,
 "nbformat_minor": 2
}
